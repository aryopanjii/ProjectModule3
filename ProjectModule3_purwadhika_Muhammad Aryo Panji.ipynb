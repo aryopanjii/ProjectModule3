{
 "cells": [
  {
   "cell_type": "markdown",
   "id": "0fb960d5",
   "metadata": {},
   "source": [
    "# Telco Customer Churn Analytics: to know which customer will leave the telco service\n",
    "### Created By : Muhammad Aryo Panji\n",
    "Perusahaan B-TELL ( assumpion for study case )"
   ]
  },
  {
   "cell_type": "markdown",
   "id": "507fcb02",
   "metadata": {},
   "source": [
    "## Business Problem Understanding"
   ]
  },
  {
   "cell_type": "markdown",
   "id": "8dc3d049",
   "metadata": {},
   "source": [
    "**Context**  \n",
    "Sebuah perusahaan yang bergerak di bidang Telco Service ingin mengetahui customer yang kan tetep menggunakan layanan telco atau meninggal layanan telco.Perusahaan ingin mengetahui customer mana yang benar-benar akan meninggalkan layanan telco perusahaan setelah mencoba menggunakan layanan telco karena membantu perusahaan untuk memetakan cutomer memiliki probability besar untuk meninggalkan laynanan perusahaan sehingga dapat memperkuat dari sisi perusahaan untuk meningkat value dari layanan. Informasi terkait yang menjadi varible dalam perhitungan yaitu dari customer yang sudah menggunakan laynan telco service.\n",
    "\n",
    "Target :\n",
    "\n",
    "0 : Tidak mencari layanan baru dan teteap pada layanan telco service ini\n",
    "\n",
    "1 : Mencari layanan telco yang baru ( akan berpindah menggunakan ISP lain)"
   ]
  },
  {
   "cell_type": "markdown",
   "id": "ca8f2fa3",
   "metadata": {},
   "source": [
    "**Problem Statement :**\n",
    "\n",
    "Semakin banyak layanan telekomunikasi yang bermunculan akhir-akhir ini membuat perusahaan telco semakin bersaing secara ketat dengan menawarkan paket layanan internet yang murah, cepat, dan memiliki beragam fitur yang membuat di sisi customer nyaman menggunakan product telco. Dengan ketatnya persaingan harga dan layanan di perusahaan telekomunikasi membuat B-Tell melakukan project customer churn untuk mengetahui customer yang memiliki chance besar untuk meninggal product layanan dari B-Tell or tetap bertahan menggunakan produk layanan.\n",
    "\n",
    "Customer yang meninggalkan layanan telco perusahaan akan menjadi \"oppurtunity lose\" dalam kegiatan bisnis kedepan. sehinggal membuat perusahaan memetakan antara customer yang tetep menggunakan layanan dan yang tidak, dan faktor faktor apa saja yang membuat pelanggan itu beralih menggunakan layanan telco yang baru.\n",
    "\n",
    "\n",
    "**Goals :**\n",
    "\n",
    "Maka berdasarkan permasalahan tersebut, perusahaan ingin memiliki kemampuan untuk memprediksi kemungkinan seorang customer akan/ingin berpindah menggunakan product layanan perusahaan telekomunikasi yang lain, sehingga dapat memfokuskan kepada customer yang akan berpindah dengan membuat paket yang semakin dekat dengan kebutuhan customer agar customer tidak beralih menggunakan produk layanan sejenis di perusahaan telco lainya.\n",
    "\n",
    "Dan juga, perusahaan ingin mengetahui apa/faktor/variabel apa yang membuat seorang customer mau berpindah atau tidak, sehingga mereka dapat membuat rencana yang lebih baik dalam mendekati customer potensial loss (customer yang ingin berpindah menggunakan produk dari perusahaan lain.) .\n",
    "\n",
    "**Analytic Approach :**\n",
    "\n",
    "Jadi yang akan kita lakukan adalah menganalisis data untuk menemukan pola yang membedakan customer yang mau beralih menggunakan produk layanan atau tidak.\n",
    "\n",
    "Kemudian kita akan membangun model klasifikasi yang akan membantu perusahaan untuk dapat memprediksi probabilitas seorang customer akan beralih atau tidak."
   ]
  },
  {
   "cell_type": "markdown",
   "id": "da400ad2",
   "metadata": {},
   "source": [
    "**Metric Evaluation**"
   ]
  },
  {
   "cell_type": "markdown",
   "id": "b149d794",
   "metadata": {},
   "source": [
    "maka sebisa mungkin yang akan kita lakukan adalah membuat model yang dapat meningkatkan accuracy customer yang akan churn dan actual nya juga churn"
   ]
  },
  {
   "cell_type": "markdown",
   "id": "e4960512",
   "metadata": {},
   "source": [
    "**Important Feature**"
   ]
  },
  {
   "cell_type": "markdown",
   "id": "3bae712e",
   "metadata": {},
   "source": [
    "\n",
    "\n",
    "*   Dependents: Yang \n",
    "*   Tenure: \n",
    "\n"
   ]
  },
  {
   "cell_type": "markdown",
   "id": "ffc01b32",
   "metadata": {},
   "source": [
    "# **Import File And Package**\n"
   ]
  },
  {
   "cell_type": "code",
   "execution_count": 6,
   "id": "a6884715",
   "metadata": {},
   "outputs": [],
   "source": [
    "import pandas as pd"
   ]
  },
  {
   "cell_type": "code",
   "execution_count": 7,
   "id": "ec0d68ba",
   "metadata": {},
   "outputs": [
    {
     "data": {
      "text/plain": [
       "<module 'pandas' from 'C:\\\\ProgramData\\\\Anaconda3\\\\lib\\\\site-packages\\\\pandas\\\\__init__.py'>"
      ]
     },
     "execution_count": 7,
     "metadata": {},
     "output_type": "execute_result"
    }
   ],
   "source": [
    "pd"
   ]
  },
  {
   "cell_type": "code",
   "execution_count": 8,
   "id": "8909f276",
   "metadata": {},
   "outputs": [],
   "source": [
    "import pandas as pd\n",
    "\n",
    "#Lets import the libraries first\n",
    "import pandas as pd\n",
    "import numpy as np\n",
    "import matplotlib.pyplot as plt\n",
    "import seaborn as sns\n",
    "import matplotlib\n",
    "import warnings\n",
    "warnings.filterwarnings('ignore')"
   ]
  },
  {
   "cell_type": "code",
   "execution_count": 9,
   "id": "21a2e216",
   "metadata": {},
   "outputs": [
    {
     "name": "stdout",
     "output_type": "stream",
     "text": [
      "Requirement already satisfied: seaborn in c:\\programdata\\anaconda3\\lib\\site-packages (0.11.2)\n",
      "Requirement already satisfied: pandas>=0.23 in c:\\programdata\\anaconda3\\lib\\site-packages (from seaborn) (1.3.4)\n",
      "Requirement already satisfied: numpy>=1.15 in c:\\programdata\\anaconda3\\lib\\site-packages (from seaborn) (1.20.3)\n",
      "Requirement already satisfied: scipy>=1.0 in c:\\programdata\\anaconda3\\lib\\site-packages (from seaborn) (1.7.1)\n",
      "Requirement already satisfied: matplotlib>=2.2 in c:\\programdata\\anaconda3\\lib\\site-packages (from seaborn) (3.4.3)\n",
      "Requirement already satisfied: python-dateutil>=2.7 in c:\\programdata\\anaconda3\\lib\\site-packages (from matplotlib>=2.2->seaborn) (2.8.2)\n",
      "Requirement already satisfied: cycler>=0.10 in c:\\programdata\\anaconda3\\lib\\site-packages (from matplotlib>=2.2->seaborn) (0.10.0)\n",
      "Requirement already satisfied: kiwisolver>=1.0.1 in c:\\programdata\\anaconda3\\lib\\site-packages (from matplotlib>=2.2->seaborn) (1.3.1)\n",
      "Requirement already satisfied: pillow>=6.2.0 in c:\\programdata\\anaconda3\\lib\\site-packages (from matplotlib>=2.2->seaborn) (8.4.0)\n",
      "Requirement already satisfied: pyparsing>=2.2.1 in c:\\programdata\\anaconda3\\lib\\site-packages (from matplotlib>=2.2->seaborn) (3.0.4)\n",
      "Requirement already satisfied: six in c:\\programdata\\anaconda3\\lib\\site-packages (from cycler>=0.10->matplotlib>=2.2->seaborn) (1.16.0)\n",
      "Requirement already satisfied: pytz>=2017.3 in c:\\programdata\\anaconda3\\lib\\site-packages (from pandas>=0.23->seaborn) (2021.3)\n"
     ]
    }
   ],
   "source": [
    "!pip install --upgrade seaborn"
   ]
  },
  {
   "cell_type": "code",
   "execution_count": 10,
   "id": "2f3708fa",
   "metadata": {},
   "outputs": [
    {
     "ename": "NameError",
     "evalue": "name 'df' is not defined",
     "output_type": "error",
     "traceback": [
      "\u001b[1;31m---------------------------------------------------------------------------\u001b[0m",
      "\u001b[1;31mNameError\u001b[0m                                 Traceback (most recent call last)",
      "\u001b[1;32m~\\AppData\\Local\\Temp/ipykernel_17640/1499951293.py\u001b[0m in \u001b[0;36m<module>\u001b[1;34m\u001b[0m\n\u001b[0;32m      1\u001b[0m \u001b[0mdata_prep\u001b[0m \u001b[1;33m=\u001b[0m \u001b[0mpd\u001b[0m\u001b[1;33m.\u001b[0m\u001b[0mread_csv\u001b[0m \u001b[1;33m(\u001b[0m\u001b[1;34mr'C:\\Users\\telo\\Downloads\\data_telco_customer_churn.csv'\u001b[0m\u001b[1;33m)\u001b[0m\u001b[1;33m\u001b[0m\u001b[1;33m\u001b[0m\u001b[0m\n\u001b[1;32m----> 2\u001b[1;33m \u001b[0mprint\u001b[0m \u001b[1;33m(\u001b[0m\u001b[0mdf\u001b[0m\u001b[1;33m)\u001b[0m\u001b[1;33m\u001b[0m\u001b[1;33m\u001b[0m\u001b[0m\n\u001b[0m",
      "\u001b[1;31mNameError\u001b[0m: name 'df' is not defined"
     ]
    }
   ],
   "source": [
    "data_prep = pd.read_csv (r'C:\\Users\\telo\\Downloads\\data_telco_customer_churn.csv')\n",
    "print (df)"
   ]
  },
  {
   "cell_type": "code",
   "execution_count": 249,
   "id": "655ea2b7",
   "metadata": {},
   "outputs": [],
   "source": [
    "df = pd.read_csv (r'C:\\Users\\telo\\Downloads\\data_telco_customer_churn.csv')"
   ]
  },
  {
   "cell_type": "markdown",
   "id": "d6b04325",
   "metadata": {},
   "source": [
    "# **Explanatory Dataset**"
   ]
  },
  {
   "cell_type": "code",
   "execution_count": null,
   "id": "57b34ccd",
   "metadata": {},
   "outputs": [],
   "source": [
    "plt.figure(figsize=(8,7), facecolor='lightyellow')\n",
    "plt.pie(data['Churn'].value_counts(), autopct='%.2f%%', pctdistance = 1.25,startangle=45, textprops={'fontsize': 15}, \n",
    "colors=['indigo','darkorange'], shadow=True)\n",
    "my_circle=plt.Circle( (0,0), 0.6, color='lightyellow')\n",
    "p=plt.gcf()\n",
    "p.gca().add_artist(my_circle)\n",
    "plt.title('Churn Proportion', fontsize=17, fontweight='bold')\n",
    "plt.legend(['No', 'Yes'], bbox_to_anchor=(1, 1), fontsize=12)\n",
    "plt.show()"
   ]
  },
  {
   "cell_type": "markdown",
   "id": "628b350f",
   "metadata": {},
   "source": [
    "data imbalance thats why we need to catch up for creating balacing data using several method"
   ]
  },
  {
   "cell_type": "code",
   "execution_count": 258,
   "id": "3afb61a8",
   "metadata": {},
   "outputs": [
    {
     "name": "stdout",
     "output_type": "stream",
     "text": [
      "Dependents ['Yes' 'No']\n",
      "tenure [ 9 14 64 72  3 40 17 11  8 47 18  5  1 48 13 58  7  4 70 34 31 37 15 71\n",
      " 10 43 22 33 69 54 63 55 66 56 32 26 24  2 51 23 49 28 36 45 42  6 61 59\n",
      " 67 65  0 16 52 41 25 62 20 50 30 60 19 35 57 27 44 53 12 46 39 29 38 68\n",
      " 21]\n",
      "OnlineSecurity ['No' 'Yes' 'No internet service']\n",
      "OnlineBackup ['No' 'Yes' 'No internet service']\n",
      "InternetService ['DSL' 'Fiber optic' 'No']\n",
      "DeviceProtection ['Yes' 'No internet service' 'No']\n",
      "TechSupport ['Yes' 'No' 'No internet service']\n",
      "Contract ['Month-to-month' 'Two year' 'One year']\n",
      "PaperlessBilling ['Yes' 'No']\n",
      "MonthlyCharges [ 72.9   82.65  47.85 ...  58.45  23.65 108.5 ]\n",
      "Churn ['Yes' 'No']\n"
     ]
    }
   ],
   "source": [
    "for i in df.columns:\n",
    "  print(i,df[i].unique())"
   ]
  },
  {
   "cell_type": "code",
   "execution_count": 260,
   "id": "143d541d",
   "metadata": {},
   "outputs": [
    {
     "data": {
      "image/png": "[encoded data removed]",
      "text/plain": [
       "<Figure size 576x504 with 1 Axes>"
      ]
     },
     "metadata": {},
     "output_type": "display_data"
    }
   ],
   "source": [
    "data = df\n",
    "plt.figure(figsize=(8,7), facecolor='lightyellow')\n",
    "plt.pie(data['Churn'].value_counts(), autopct='%.2f%%', pctdistance = 1.25,startangle=45, textprops={'fontsize': 15}, \n",
    "colors=['indigo','darkorange'], shadow=True)\n",
    "my_circle=plt.Circle( (0,0), 0.6, color='lightyellow')\n",
    "p=plt.gcf()\n",
    "p.gca().add_artist(my_circle)\n",
    "plt.title('Churn Proportion', fontsize=17, fontweight='bold')\n",
    "plt.legend(['No', 'Yes'], bbox_to_anchor=(1, 1), fontsize=12)\n",
    "plt.show()"
   ]
  },
  {
   "cell_type": "markdown",
   "id": "559d95ae",
   "metadata": {},
   "source": [
    "# **Variable Service Having Ambiguity**"
   ]
  },
  {
   "cell_type": "markdown",
   "id": "a8d67e09",
   "metadata": {},
   "source": [
    "disini kita melihat ada data \"No internet service\" ni bisa disimpulkan untuk tidak menggunakan layanan jadi bisa di masukan ke dalam class \"no\" sebelum masuk ke tahap encoding\n",
    "\n",
    "\n",
    "\n",
    "OnlineSecurity ['No' 'Yes' 'No internet service']\n",
    "\n",
    "OnlineBackup ['No' 'Yes' 'No internet service']\n",
    "\n",
    "DeviceProtection ['Yes' 'No internet service' 'No']\n",
    "\n",
    "TechSupport ['Yes' 'No' 'No internet service']"
   ]
  },
  {
   "cell_type": "code",
   "execution_count": 11,
   "id": "db151e23",
   "metadata": {},
   "outputs": [
    {
     "data": {
      "text/plain": [
       "<AxesSubplot:xlabel='TechSupport', ylabel='count'>"
      ]
     },
     "execution_count": 11,
     "metadata": {},
     "output_type": "execute_result"
    },
    {
     "data": {
      "image/png": "[encoded data removed]",
      "text/plain": [
       "<Figure size 1080x1080 with 4 Axes>"
      ]
     },
     "metadata": {
      "needs_background": "light"
     },
     "output_type": "display_data"
    }
   ],
   "source": [
    "#preparing the figure size \n",
    "fig, axarr = plt.subplots(2, 2, figsize=(15, 15))\n",
    "\n",
    "sns.countplot('OnlineBackup',data = data_prep, ax = axarr[0][0])\n",
    "sns.countplot('OnlineSecurity',data = data_prep, ax = axarr[0][1])\n",
    "sns.countplot('DeviceProtection',data = data_prep, ax = axarr[1][0])\n",
    "sns.countplot('TechSupport',data = data_prep, ax = axarr[1][1])"
   ]
  },
  {
   "cell_type": "code",
   "execution_count": 12,
   "id": "11d9a265",
   "metadata": {},
   "outputs": [],
   "source": [
    "data_prep['DeviceProtection'] = data_prep['DeviceProtection'].replace(['No internet service'],'No')\n",
    "data_prep['OnlineBackup'] = data_prep['OnlineBackup'].replace(['No internet service'],'No')\n",
    "data_prep['OnlineSecurity'] = data_prep['OnlineSecurity'].replace(['No internet service'],'No')\n",
    "data_prep['TechSupport'] = data_prep['TechSupport'].replace(['No internet service'],'No')"
   ]
  },
  {
   "cell_type": "code",
   "execution_count": 17,
   "id": "cd07d237",
   "metadata": {},
   "outputs": [
    {
     "data": {
      "image/png": "[encoded data removed]",
      "text/plain": [
       "<Figure size 1080x576 with 2 Axes>"
      ]
     },
     "metadata": {
      "needs_background": "light"
     },
     "output_type": "display_data"
    }
   ],
   "source": [
    "numerical = [\"MonthlyCharges\", \"tenure\"]\n",
    "\n",
    "fig, ax = plt.subplots(1, 2, figsize=(15, 8))\n",
    "for variable, subplot in zip(numerical, ax.flatten()):\n",
    "    sns.boxplot(x=data_prep[\"Churn\"], y=data_prep[variable], ax=subplot, palette = \"Set2\").set_title(str(variable))"
   ]
  },
  {
   "cell_type": "markdown",
   "id": "90b9471d",
   "metadata": {},
   "source": [
    "kita bisa lihat bahwa cutomer yang melakukan churn itu biasanya berada di range 80-90 dollar mothlycharges nya\n",
    "dan tenure pendek dibawah 30 score nya"
   ]
  },
  {
   "cell_type": "code",
   "execution_count": 18,
   "id": "beeec844",
   "metadata": {},
   "outputs": [
    {
     "data": {
      "image/png": "[encoded data removed]",
      "text/plain": [
       "<Figure size 324x324 with 1 Axes>"
      ]
     },
     "metadata": {
      "needs_background": "light"
     },
     "output_type": "display_data"
    }
   ],
   "source": [
    "a=sns.PairGrid(data_prep, y_vars=[\"tenure\"], x_vars=[\"MonthlyCharges\"], height=4.5, hue=\"Churn\")\n",
    "ax = a.map(plt.scatter)"
   ]
  },
  {
   "cell_type": "markdown",
   "id": "df52c312",
   "metadata": {},
   "source": [
    "demograhics"
   ]
  },
  {
   "cell_type": "code",
   "execution_count": 21,
   "id": "3cc6d99b",
   "metadata": {},
   "outputs": [],
   "source": [
    "def stacked_plot(data_prep, features, target):\n",
    "    fig, ax = plt.subplots(figsize = (6,4))\n",
    "    df = (data_prep.groupby([features, target]).size()/data_prep.groupby(features)[target].count()).reset_index().pivot(columns=target, index=features, values=0)\n",
    "    df.plot(kind='bar', stacked=True, ax = ax, color = [\"blue\", \"orange\"])\n",
    "    ax.xaxis.set_tick_params(rotation=0)\n",
    "    ax.set_xlabel(features)\n",
    "    ax.set_ylabel('Churn Percentage')"
   ]
  },
  {
   "cell_type": "code",
   "execution_count": 23,
   "id": "c592f0fd",
   "metadata": {},
   "outputs": [
    {
     "data": {
      "image/png": "[encoded data removed]",
      "text/plain": [
       "<Figure size 432x288 with 1 Axes>"
      ]
     },
     "metadata": {
      "needs_background": "light"
     },
     "output_type": "display_data"
    },
    {
     "data": {
      "image/png": "[encoded data removed]",
      "text/plain": [
       "<Figure size 432x288 with 1 Axes>"
      ]
     },
     "metadata": {
      "needs_background": "light"
     },
     "output_type": "display_data"
    },
    {
     "data": {
      "image/png": "[encoded data removed]",
      "text/plain": [
       "<Figure size 432x288 with 1 Axes>"
      ]
     },
     "metadata": {
      "needs_background": "light"
     },
     "output_type": "display_data"
    },
    {
     "data": {
      "image/png": "[encoded data removed]",
      "text/plain": [
       "<Figure size 432x288 with 1 Axes>"
      ]
     },
     "metadata": {
      "needs_background": "light"
     },
     "output_type": "display_data"
    },
    {
     "data": {
      "image/png": "[encoded data removed]",
      "text/plain": [
       "<Figure size 432x288 with 1 Axes>"
      ]
     },
     "metadata": {
      "needs_background": "light"
     },
     "output_type": "display_data"
    },
    {
     "data": {
      "image/png": "[encoded data removed]",
      "text/plain": [
       "<Figure size 432x288 with 1 Axes>"
      ]
     },
     "metadata": {
      "needs_background": "light"
     },
     "output_type": "display_data"
    },
    {
     "data": {
      "image/png": "[encoded data removed]",
      "text/plain": [
       "<Figure size 432x288 with 1 Axes>"
      ]
     },
     "metadata": {
      "needs_background": "light"
     },
     "output_type": "display_data"
    },
    {
     "data": {
      "image/png": "[encoded data removed]",
      "text/plain": [
       "<Figure size 432x288 with 1 Axes>"
      ]
     },
     "metadata": {
      "needs_background": "light"
     },
     "output_type": "display_data"
    }
   ],
   "source": [
    "stacked_plot(data_prep, \"OnlineSecurity\", \"Churn\")\n",
    "stacked_plot(data_prep, \"OnlineSecurity\", \"Churn\")\n",
    "stacked_plot(data_prep, \"OnlineSecurity\", \"Churn\")\n",
    "stacked_plot(data_prep, \"Dependents\", \"Churn\")\n",
    "stacked_plot(data_prep, \"DeviceProtection\", \"Churn\")\n",
    "stacked_plot(data_prep, \"TechSupport\", \"Churn\")\n",
    "stacked_plot(data_prep, \"Contract\", \"Churn\")\n",
    "stacked_plot(data_prep, \"PaperlessBilling\", \"Churn\")"
   ]
  },
  {
   "cell_type": "markdown",
   "id": "c3ff9197",
   "metadata": {},
   "source": [
    "monthly charger dan tenure angka numerc yang kita harus pendistribusian data nya menggunakan package normaltestdari spicy stat untuk menguji apakah data kita terdistribusi normal atau tidak baru kami lanjutkan untuk mencari korelasi "
   ]
  },
  {
   "cell_type": "code",
   "execution_count": null,
   "id": "fe1b32ae",
   "metadata": {},
   "outputs": [],
   "source": []
  },
  {
   "cell_type": "code",
   "execution_count": 24,
   "id": "dedbbf6a",
   "metadata": {},
   "outputs": [
    {
     "data": {
      "image/png": "[encoded data removed]",
      "text/plain": [
       "<Figure size 1440x432 with 2 Axes>"
      ]
     },
     "metadata": {
      "needs_background": "light"
     },
     "output_type": "display_data"
    }
   ],
   "source": [
    "from scipy.stats import normaltest\n",
    "\n",
    "stat1, p1 = normaltest(data_prep['tenure'])\n",
    "stat2, p2 = normaltest(data_prep['MonthlyCharges'])\n",
    "\n",
    "\n",
    "if p1 > 0.05:\n",
    "    s1 = 'It is normally distributed.'\n",
    "else:\n",
    "    s1 = 'It is not normally distributed'\n",
    "    \n",
    "if p2 > 0.05:\n",
    "    s2 = 'It is normally distributed.'\n",
    "else:\n",
    "    s2 = 'It is not normally distributed.'\n",
    "\n",
    "fig = plt.figure(figsize=(20,6))\n",
    "\n",
    "plt.subplot(121)\n",
    "plt.title(\"Stats:\"+ str(stat1)+\" ,  P value:\" + str(p1)+ \"  , \" + s1)\n",
    "sns.histplot(data_prep['tenure'],kde=True, color=\"red\")\n",
    "plt.axvline(data_prep['tenure'].mean(), color='k', linestyle='dashed', linewidth=2)\n",
    "\n",
    "\n",
    "plt.subplot(122)\n",
    "plt.title(\"Stats:\"+ str(stat2)+\" ,  P value:\" + str(p2)+ \"  , \" + s2)\n",
    "sns.histplot(data_prep['MonthlyCharges'],kde=True, color=\"green\")\n",
    "plt.axvline(data_prep['MonthlyCharges'].mean(), color='k', linestyle='dashed', linewidth=2)\n",
    "\n",
    "\n",
    "plt.show()"
   ]
  },
  {
   "cell_type": "markdown",
   "id": "c472d99e",
   "metadata": {},
   "source": [
    "karena data kita tidak terdistribusi normal maka diperlukan method sperman untuk mencari korelasi data terhadapt target churn "
   ]
  },
  {
   "cell_type": "code",
   "execution_count": 25,
   "id": "4cf872f1",
   "metadata": {},
   "outputs": [
    {
     "data": {
      "image/png": "[encoded data removed]",
      "text/plain": [
       "<Figure size 360x360 with 6 Axes>"
      ]
     },
     "metadata": {
      "needs_background": "light"
     },
     "output_type": "display_data"
    }
   ],
   "source": [
    "sns.pairplot(data_prep[['tenure','MonthlyCharges']])\n",
    "plt.show()"
   ]
  },
  {
   "cell_type": "markdown",
   "id": "2a224671",
   "metadata": {},
   "source": [
    "**insight** tenure and Monthly Charges have weak correlation"
   ]
  },
  {
   "cell_type": "code",
   "execution_count": 34,
   "id": "ef2233e0",
   "metadata": {},
   "outputs": [
    {
     "data": {
      "text/plain": [
       "Text(0.5, 1.0, 'Monthly charges by churn')"
      ]
     },
     "execution_count": 34,
     "metadata": {},
     "output_type": "execute_result"
    },
    {
     "data": {
      "image/png": "[encoded data removed]",
      "text/plain": [
       "<Figure size 432x288 with 1 Axes>"
      ]
     },
     "metadata": {
      "needs_background": "light"
     },
     "output_type": "display_data"
    }
   ],
   "source": [
    "Mth = sns.kdeplot(data_prep.MonthlyCharges[(data_prep[\"Churn\"] == 0) ],\n",
    "                color=\"Red\", shade = True)\n",
    "Mth = sns.kdeplot(data_prep.MonthlyCharges[(data_prep[\"Churn\"] == 1) ],\n",
    "                ax =Mth, color=\"Blue\", shade= True)\n",
    "Mth.legend([\"No Churn\",\"Churn\"],loc='upper right')\n",
    "Mth.set_ylabel('Density')\n",
    "Mth.set_xlabel('Monthly Charges')\n",
    "Mth.set_title('Monthly charges by churn')"
   ]
  },
  {
   "cell_type": "markdown",
   "id": "9c7466dc",
   "metadata": {},
   "source": [
    "**Insight:** Churn is high when Monthly Charges ar high"
   ]
  },
  {
   "cell_type": "code",
   "execution_count": 35,
   "id": "fb4d9311",
   "metadata": {},
   "outputs": [
    {
     "data": {
      "text/plain": [
       "Text(0.5, 1.0, 'tenure by churn')"
      ]
     },
     "execution_count": 35,
     "metadata": {},
     "output_type": "execute_result"
    },
    {
     "data": {
      "image/png": "[encoded data removed]",
      "text/plain": [
       "<Figure size 432x288 with 1 Axes>"
      ]
     },
     "metadata": {
      "needs_background": "light"
     },
     "output_type": "display_data"
    }
   ],
   "source": [
    "Mth = sns.kdeplot(data_prep.tenure[(data_prep[\"Churn\"] == 0) ],\n",
    "                color=\"Red\", shade = True)\n",
    "Mth = sns.kdeplot(data_prep.tenure[(data_prep[\"Churn\"] == 1) ],\n",
    "                ax =Mth, color=\"Blue\", shade= True)\n",
    "Mth.legend([\"No Churn\",\"Churn\"],loc='upper right')\n",
    "Mth.set_ylabel('Density')\n",
    "Mth.set_xlabel('tenure')\n",
    "Mth.set_title('tenure by churn')"
   ]
  },
  {
   "cell_type": "code",
   "execution_count": 36,
   "id": "9b500130",
   "metadata": {},
   "outputs": [
    {
     "data": {
      "image/png": "[encoded data removed]",
      "text/plain": [
       "<Figure size 576x432 with 1 Axes>"
      ]
     },
     "metadata": {
      "needs_background": "light"
     },
     "output_type": "display_data"
    }
   ],
   "source": [
    "fig, ax = plt.subplots(figsize=(8, 6))\n",
    "\n",
    "sns.histplot(data=data_prep, x='tenure', hue='Contract', stat='percent', multiple='dodge', ax=ax, binwidth=5, alpha=0.8)\n",
    "sns.move_legend(ax, \"lower center\", bbox_to_anchor=(0.5, 1), ncol=3, title='', frameon=False)\n",
    "\n",
    "sns.despine()  \n",
    "plt.show()"
   ]
  },
  {
   "cell_type": "code",
   "execution_count": 37,
   "id": "a85959cc",
   "metadata": {},
   "outputs": [
    {
     "data": {
      "text/plain": [
       "<AxesSubplot:>"
      ]
     },
     "execution_count": 37,
     "metadata": {},
     "output_type": "execute_result"
    },
    {
     "data": {
      "image/png": "[encoded data removed]",
      "text/plain": [
       "<Figure size 1440x576 with 1 Axes>"
      ]
     },
     "metadata": {
      "needs_background": "light"
     },
     "output_type": "display_data"
    }
   ],
   "source": [
    "plt.figure(figsize=(20,8))\n",
    "data_prep.corr()['Churn'].sort_values(ascending = False).plot(kind='bar')"
   ]
  },
  {
   "cell_type": "markdown",
   "id": "ad28edba",
   "metadata": {},
   "source": [
    "## **Derived Insight: **\n",
    "\n",
    "**HIGH** Churn seen in case of  **Month to month contracts**, **No online security**, **No Tech support**, **First year of subscription** and **Fibre Optics Internet**\n",
    "\n",
    "**LOW** Churn is seens in case of **Long term contracts**, **Subscriptions without internet service** and **The customers engaged for 5+ years**\n",
    "\n",
    "Factors like **Gender**, **Availability of PhoneService** and **# of multiple lines** have alomost **NO** impact on Churn\n",
    "\n",
    "This is also evident from the **Heatmap** below"
   ]
  },
  {
   "cell_type": "code",
   "execution_count": 252,
   "id": "8063fe02",
   "metadata": {},
   "outputs": [
    {
     "data": {
      "text/plain": [
       "<AxesSubplot:>"
      ]
     },
     "execution_count": 252,
     "metadata": {},
     "output_type": "execute_result"
    },
    {
     "data": {
      "image/png": "[encoded data removed]",
      "text/plain": [
       "<Figure size 504x504 with 2 Axes>"
      ]
     },
     "metadata": {
      "needs_background": "light"
     },
     "output_type": "display_data"
    }
   ],
   "source": [
    "plt.figure(figsize=(7,7))\n",
    "sns.heatmap(data_prep.corr(), cmap=\"YlGnBu\")"
   ]
  },
  {
   "cell_type": "markdown",
   "id": "686edb6a",
   "metadata": {},
   "source": [
    "## Missing data"
   ]
  },
  {
   "cell_type": "code",
   "execution_count": 253,
   "id": "b1bfe333",
   "metadata": {},
   "outputs": [
    {
     "data": {
      "image/png": "[encoded data removed]",
      "text/plain": [
       "<Figure size 1152x360 with 1 Axes>"
      ]
     },
     "metadata": {
      "needs_background": "light"
     },
     "output_type": "display_data"
    }
   ],
   "source": [
    "missing = pd.DataFrame((df.isnull().sum())*100/df.shape[0]).reset_index()\n",
    "plt.figure(figsize=(16,5))\n",
    "ax = sns.pointplot('index',0,data=missing)\n",
    "plt.xticks(rotation =90,fontsize =7)\n",
    "plt.title(\"Percentage of Missing values\")\n",
    "plt.ylabel(\"PERCENTAGE\")\n",
    "plt.show()"
   ]
  },
  {
   "cell_type": "markdown",
   "id": "f2b93877",
   "metadata": {},
   "source": [
    "## **Checking Outliers**"
   ]
  },
  {
   "cell_type": "code",
   "execution_count": 250,
   "id": "855a6aba",
   "metadata": {},
   "outputs": [
    {
     "data": {
      "text/plain": [
       "tenure            False\n",
       "MonthlyCharges    False\n",
       "dtype: bool"
      ]
     },
     "execution_count": 250,
     "metadata": {},
     "output_type": "execute_result"
    }
   ],
   "source": [
    "num_features= ['tenure', 'MonthlyCharges']\n",
    "df_num = df[num_features]\n",
    "df_num.describe()\n",
    "\n",
    "Q1 = df_num.quantile(0.25)\n",
    "Q3 = df_num.quantile(0.75)\n",
    "IQR = Q3 - Q1\n",
    "IQR\n",
    "((df_num < (Q1 - 1.5 * IQR)) | (df_num > (Q3 + 1.5 * IQR))).any()"
   ]
  },
  {
   "cell_type": "markdown",
   "id": "d3efd570",
   "metadata": {},
   "source": [
    "## **Binning Tenure**"
   ]
  },
  {
   "cell_type": "markdown",
   "id": "224903cf",
   "metadata": {},
   "source": [
    "berdasarkan bar plot ini kita bisa membagi tenure membagi 6 dengan memberikan tingkatan dan ini harus hati hati dalam melakukan bining dan mengubah menjadi agar tidak terlalu complex data nya\n",
    "\n",
    "awalnya saya menggunakan bining untuk tenure nya untuk menjaga complexity namun bukanya model malah bagus membuat model jadi ambigu jadi saya memutuskan tidak menggunakan bining"
   ]
  },
  {
   "cell_type": "code",
   "execution_count": null,
   "id": "d143267c",
   "metadata": {},
   "outputs": [],
   "source": [
    "#to reduce data complexity make 5 groups\n",
    "#def tenure(t):\n",
    " #   if t<=12:\n",
    "  #      return 1\n",
    "   ##    return 2\n",
    "   # elif t>24 and t<=36:\n",
    "    #    return 3\n",
    "    #elif t>36 and t<=48:\n",
    "     #   return 4\n",
    "    #elif t>48 and t<=60:\n",
    "     #   return 5\n",
    "    #else:\n",
    "     #   return 6\n",
    "\n",
    "#data_prep[\"tenure_group\"]=data_prep[\"tenure\"].apply(lambda x: tenure(x))"
   ]
  },
  {
   "cell_type": "markdown",
   "id": "d7e26266",
   "metadata": {},
   "source": [
    "# **Encode**"
   ]
  },
  {
   "cell_type": "markdown",
   "id": "f919a8bb",
   "metadata": {},
   "source": [
    "kita akan meilhat ada berapa banyak feature yang dapat kami encode:"
   ]
  },
  {
   "cell_type": "code",
   "execution_count": 30,
   "id": "cee9cd82",
   "metadata": {},
   "outputs": [
    {
     "name": "stdout",
     "output_type": "stream",
     "text": [
      "Dependents ['Yes' 'No']\n",
      "tenure [ 9 14 64 72  3 40 17 11  8 47 18  5  1 48 13 58  7  4 70 34 31 37 15 71\n",
      " 10 43 22 33 69 54 63 55 66 56 32 26 24  2 51 23 49 28 36 45 42  6 61 59\n",
      " 67 65  0 16 52 41 25 62 20 50 30 60 19 35 57 27 44 53 12 46 39 29 38 68\n",
      " 21]\n",
      "OnlineSecurity ['No' 'Yes']\n",
      "OnlineBackup ['No' 'Yes']\n",
      "InternetService ['DSL' 'Fiber optic' 'No']\n",
      "DeviceProtection ['Yes' 'No']\n",
      "TechSupport ['Yes' 'No']\n",
      "Contract ['Month-to-month' 'Two year' 'One year']\n",
      "PaperlessBilling ['Yes' 'No']\n",
      "MonthlyCharges [ 72.9   82.65  47.85 ...  58.45  23.65 108.5 ]\n",
      "Churn ['Yes' 'No']\n"
     ]
    }
   ],
   "source": [
    "for i in data_prep.columns:\n",
    "  print(i,data_prep[i].unique())"
   ]
  },
  {
   "cell_type": "code",
   "execution_count": 31,
   "id": "d9bd52b9",
   "metadata": {},
   "outputs": [],
   "source": [
    "data_prep['DeviceProtection'] = data_prep['DeviceProtection'].replace(['No internet service'],'No')\n",
    "data_prep['OnlineBackup'] = data_prep['OnlineBackup'].replace(['No internet service'],'No')\n",
    "data_prep['OnlineSecurity'] = data_prep['OnlineSecurity'].replace(['No internet service'],'No')\n",
    "data_prep['TechSupport'] = data_prep['TechSupport'].replace(['No internet service'],'No')"
   ]
  },
  {
   "cell_type": "markdown",
   "id": "29b7bf6a",
   "metadata": {},
   "source": [
    "skrng kita bisa melakukan fiture encode di column yang memiliki 2 feature manjadi numerical value"
   ]
  },
  {
   "cell_type": "code",
   "execution_count": null,
   "id": "f2636eff",
   "metadata": {},
   "outputs": [],
   "source": [
    "#from sklearn.preprocessing import OneHotEncoder\n",
    "#ohe = OneHotEncoder(categories=[['Yes', 'No']] ,handle_unknown='ignore', sparse = False)\n",
    "#cols = ['Dependents', 'PaperlessBilling', 'Churn']"
   ]
  },
  {
   "cell_type": "code",
   "execution_count": null,
   "id": "17e9bfbd",
   "metadata": {},
   "outputs": [],
   "source": [
    "#for i in cols:\n",
    " ## y=np.array(data_prep[i]).reshape(-1,1)\n",
    "  #ohe.fit(y)\n",
    "  #data_prep[i] = ohe.transform(y)"
   ]
  },
  {
   "cell_type": "markdown",
   "id": "fe6b8ced",
   "metadata": {},
   "source": [
    "## **Encode feature menggunakan label encoder**"
   ]
  },
  {
   "cell_type": "code",
   "execution_count": 32,
   "id": "213298df",
   "metadata": {},
   "outputs": [],
   "source": [
    "from sklearn.preprocessing import LabelEncoder\n",
    "lenc = LabelEncoder()\n",
    "cols = [ 'OnlineSecurity', 'OnlineBackup', 'DeviceProtection', 'TechSupport', 'Contract','InternetService','Dependents','PaperlessBilling', 'Churn']\n",
    "\n",
    "for i in cols:\n",
    "  lenc.fit(data_prep[i])\n",
    "  data_prep[i] = lenc.transform(data_prep[i])"
   ]
  },
  {
   "cell_type": "code",
   "execution_count": 33,
   "id": "175c3c43",
   "metadata": {},
   "outputs": [
    {
     "data": {
      "image/png": "[encoded data removed]",
      "text/plain": [
       "<Figure size 720x1440 with 12 Axes>"
      ]
     },
     "metadata": {
      "needs_background": "light"
     },
     "output_type": "display_data"
    }
   ],
   "source": [
    "## visualization of the features \n",
    "data_prep.hist(figsize=(10,20), xrot=-45)\n",
    "plt.show()"
   ]
  },
  {
   "cell_type": "markdown",
   "id": "dee6908f",
   "metadata": {},
   "source": [
    "# **Handling Imbalance Data**"
   ]
  },
  {
   "cell_type": "code",
   "execution_count": 38,
   "id": "a5ddd254",
   "metadata": {},
   "outputs": [
    {
     "data": {
      "text/plain": [
       "0    73.306288\n",
       "1    26.693712\n",
       "Name: Churn, dtype: float64"
      ]
     },
     "execution_count": 38,
     "metadata": {},
     "output_type": "execute_result"
    }
   ],
   "source": [
    "data_prep['Churn'].value_counts()/data_prep.shape[0]*100"
   ]
  },
  {
   "cell_type": "code",
   "execution_count": 39,
   "id": "ee4dff35",
   "metadata": {},
   "outputs": [
    {
     "data": {
      "text/plain": [
       "0    3614\n",
       "1    1316\n",
       "Name: Churn, dtype: int64"
      ]
     },
     "execution_count": 39,
     "metadata": {},
     "output_type": "execute_result"
    }
   ],
   "source": [
    "data_prep['Churn'].value_counts()"
   ]
  },
  {
   "cell_type": "code",
   "execution_count": 279,
   "id": "67ca11a5",
   "metadata": {},
   "outputs": [
    {
     "data": {
      "text/html": [
       "<div>\n",
       "<style scoped>\n",
       "    .dataframe tbody tr th:only-of-type {\n",
       "        vertical-align: middle;\n",
       "    }\n",
       "\n",
       "    .dataframe tbody tr th {\n",
       "        vertical-align: top;\n",
       "    }\n",
       "\n",
       "    .dataframe thead th {\n",
       "        text-align: right;\n",
       "    }\n",
       "</style>\n",
       "<table border=\"1\" class=\"dataframe\">\n",
       "  <thead>\n",
       "    <tr style=\"text-align: right;\">\n",
       "      <th></th>\n",
       "      <th>Dependents</th>\n",
       "      <th>tenure</th>\n",
       "      <th>OnlineSecurity</th>\n",
       "      <th>OnlineBackup</th>\n",
       "      <th>InternetService</th>\n",
       "      <th>DeviceProtection</th>\n",
       "      <th>TechSupport</th>\n",
       "      <th>Contract</th>\n",
       "      <th>PaperlessBilling</th>\n",
       "      <th>MonthlyCharges</th>\n",
       "      <th>Churn</th>\n",
       "    </tr>\n",
       "  </thead>\n",
       "  <tbody>\n",
       "    <tr>\n",
       "      <th>0</th>\n",
       "      <td>1</td>\n",
       "      <td>9</td>\n",
       "      <td>0</td>\n",
       "      <td>0</td>\n",
       "      <td>0</td>\n",
       "      <td>1</td>\n",
       "      <td>1</td>\n",
       "      <td>0</td>\n",
       "      <td>1</td>\n",
       "      <td>72.90</td>\n",
       "      <td>1</td>\n",
       "    </tr>\n",
       "    <tr>\n",
       "      <th>1</th>\n",
       "      <td>0</td>\n",
       "      <td>14</td>\n",
       "      <td>0</td>\n",
       "      <td>1</td>\n",
       "      <td>1</td>\n",
       "      <td>1</td>\n",
       "      <td>0</td>\n",
       "      <td>0</td>\n",
       "      <td>1</td>\n",
       "      <td>82.65</td>\n",
       "      <td>0</td>\n",
       "    </tr>\n",
       "    <tr>\n",
       "      <th>2</th>\n",
       "      <td>0</td>\n",
       "      <td>64</td>\n",
       "      <td>1</td>\n",
       "      <td>0</td>\n",
       "      <td>0</td>\n",
       "      <td>1</td>\n",
       "      <td>1</td>\n",
       "      <td>2</td>\n",
       "      <td>0</td>\n",
       "      <td>47.85</td>\n",
       "      <td>1</td>\n",
       "    </tr>\n",
       "    <tr>\n",
       "      <th>3</th>\n",
       "      <td>0</td>\n",
       "      <td>72</td>\n",
       "      <td>1</td>\n",
       "      <td>1</td>\n",
       "      <td>0</td>\n",
       "      <td>1</td>\n",
       "      <td>1</td>\n",
       "      <td>2</td>\n",
       "      <td>0</td>\n",
       "      <td>69.65</td>\n",
       "      <td>0</td>\n",
       "    </tr>\n",
       "    <tr>\n",
       "      <th>4</th>\n",
       "      <td>0</td>\n",
       "      <td>3</td>\n",
       "      <td>0</td>\n",
       "      <td>0</td>\n",
       "      <td>2</td>\n",
       "      <td>0</td>\n",
       "      <td>0</td>\n",
       "      <td>0</td>\n",
       "      <td>1</td>\n",
       "      <td>23.60</td>\n",
       "      <td>0</td>\n",
       "    </tr>\n",
       "    <tr>\n",
       "      <th>...</th>\n",
       "      <td>...</td>\n",
       "      <td>...</td>\n",
       "      <td>...</td>\n",
       "      <td>...</td>\n",
       "      <td>...</td>\n",
       "      <td>...</td>\n",
       "      <td>...</td>\n",
       "      <td>...</td>\n",
       "      <td>...</td>\n",
       "      <td>...</td>\n",
       "      <td>...</td>\n",
       "    </tr>\n",
       "    <tr>\n",
       "      <th>4925</th>\n",
       "      <td>0</td>\n",
       "      <td>15</td>\n",
       "      <td>0</td>\n",
       "      <td>0</td>\n",
       "      <td>1</td>\n",
       "      <td>1</td>\n",
       "      <td>1</td>\n",
       "      <td>0</td>\n",
       "      <td>1</td>\n",
       "      <td>103.45</td>\n",
       "      <td>0</td>\n",
       "    </tr>\n",
       "    <tr>\n",
       "      <th>4926</th>\n",
       "      <td>1</td>\n",
       "      <td>10</td>\n",
       "      <td>0</td>\n",
       "      <td>0</td>\n",
       "      <td>1</td>\n",
       "      <td>1</td>\n",
       "      <td>1</td>\n",
       "      <td>0</td>\n",
       "      <td>1</td>\n",
       "      <td>91.10</td>\n",
       "      <td>0</td>\n",
       "    </tr>\n",
       "    <tr>\n",
       "      <th>4927</th>\n",
       "      <td>0</td>\n",
       "      <td>58</td>\n",
       "      <td>0</td>\n",
       "      <td>0</td>\n",
       "      <td>2</td>\n",
       "      <td>0</td>\n",
       "      <td>0</td>\n",
       "      <td>2</td>\n",
       "      <td>0</td>\n",
       "      <td>20.75</td>\n",
       "      <td>0</td>\n",
       "    </tr>\n",
       "    <tr>\n",
       "      <th>4928</th>\n",
       "      <td>0</td>\n",
       "      <td>1</td>\n",
       "      <td>0</td>\n",
       "      <td>0</td>\n",
       "      <td>1</td>\n",
       "      <td>0</td>\n",
       "      <td>0</td>\n",
       "      <td>0</td>\n",
       "      <td>1</td>\n",
       "      <td>69.75</td>\n",
       "      <td>1</td>\n",
       "    </tr>\n",
       "    <tr>\n",
       "      <th>4929</th>\n",
       "      <td>1</td>\n",
       "      <td>4</td>\n",
       "      <td>0</td>\n",
       "      <td>0</td>\n",
       "      <td>2</td>\n",
       "      <td>0</td>\n",
       "      <td>0</td>\n",
       "      <td>0</td>\n",
       "      <td>0</td>\n",
       "      <td>20.40</td>\n",
       "      <td>0</td>\n",
       "    </tr>\n",
       "  </tbody>\n",
       "</table>\n",
       "<p>4930 rows × 11 columns</p>\n",
       "</div>"
      ],
      "text/plain": [
       "      Dependents  tenure  OnlineSecurity  OnlineBackup  InternetService  \\\n",
       "0              1       9               0             0                0   \n",
       "1              0      14               0             1                1   \n",
       "2              0      64               1             0                0   \n",
       "3              0      72               1             1                0   \n",
       "4              0       3               0             0                2   \n",
       "...          ...     ...             ...           ...              ...   \n",
       "4925           0      15               0             0                1   \n",
       "4926           1      10               0             0                1   \n",
       "4927           0      58               0             0                2   \n",
       "4928           0       1               0             0                1   \n",
       "4929           1       4               0             0                2   \n",
       "\n",
       "      DeviceProtection  TechSupport  Contract  PaperlessBilling  \\\n",
       "0                    1            1         0                 1   \n",
       "1                    1            0         0                 1   \n",
       "2                    1            1         2                 0   \n",
       "3                    1            1         2                 0   \n",
       "4                    0            0         0                 1   \n",
       "...                ...          ...       ...               ...   \n",
       "4925                 1            1         0                 1   \n",
       "4926                 1            1         0                 1   \n",
       "4927                 0            0         2                 0   \n",
       "4928                 0            0         0                 1   \n",
       "4929                 0            0         0                 0   \n",
       "\n",
       "      MonthlyCharges  Churn  \n",
       "0              72.90      1  \n",
       "1              82.65      0  \n",
       "2              47.85      1  \n",
       "3              69.65      0  \n",
       "4              23.60      0  \n",
       "...              ...    ...  \n",
       "4925          103.45      0  \n",
       "4926           91.10      0  \n",
       "4927           20.75      0  \n",
       "4928           69.75      1  \n",
       "4929           20.40      0  \n",
       "\n",
       "[4930 rows x 11 columns]"
      ]
     },
     "execution_count": 279,
     "metadata": {},
     "output_type": "execute_result"
    }
   ],
   "source": [
    "data_prep"
   ]
  },
  {
   "cell_type": "markdown",
   "id": "021bdd09",
   "metadata": {},
   "source": [
    "data yang kita punya imblance semua data nya sehingga kita menggunakan method smote untuk mem balance nya class nya"
   ]
  },
  {
   "cell_type": "markdown",
   "id": "b8c32168",
   "metadata": {},
   "source": [
    "# **Split Data**"
   ]
  },
  {
   "cell_type": "markdown",
   "id": "b42cb979",
   "metadata": {},
   "source": [
    "split data awal : \n",
    "data_x : sebelum di tuning\n",
    "data_y : data target sebelum tuning\n",
    "\n",
    "variable yang akan digunakan untuk masuk ke tahap ensambling : \n",
    "\n",
    "\n",
    "data_x = data spiliting ebelum minmax scaller\n",
    "\n",
    "\n",
    "x_train = sudah di min max scaller di montly charger (sudah di scalling)\n",
    "\n",
    "\n",
    "x_resample = menggunakan teknik smote untuk imblance dataset\n",
    "\n",
    "XGBClassifier = feature\n",
    "SmoteMerge = (  )\n",
    "X_xgb\n",
    "Y_xgb"
   ]
  },
  {
   "cell_type": "code",
   "execution_count": 40,
   "id": "d39ed539",
   "metadata": {},
   "outputs": [],
   "source": [
    "data_x = data_prep[[\n",
    "                    'Dependents', 'tenure', 'InternetService', 'OnlineSecurity', 'OnlineBackup', 'DeviceProtection', 'TechSupport', 'Contract', 'PaperlessBilling', \n",
    "                    'MonthlyCharges']].copy()\n",
    "                    \n",
    "data_y = data_prep['Churn']"
   ]
  },
  {
   "cell_type": "markdown",
   "id": "c19e93e2",
   "metadata": {},
   "source": [
    "Next, split the training data and testing data. We’ll try training:testing = 70:30"
   ]
  },
  {
   "cell_type": "code",
   "execution_count": 318,
   "id": "69db85dd",
   "metadata": {},
   "outputs": [
    {
     "data": {
      "text/plain": [
       "Counter({0: 2895, 1: 1049})"
      ]
     },
     "execution_count": 318,
     "metadata": {},
     "output_type": "execute_result"
    }
   ],
   "source": [
    "from sklearn.model_selection import train_test_split\n",
    "from collections import Counter\n",
    "\n",
    "x_train, x_test, y_train, y_test = train_test_split(data_x, data_y, test_size=0.2, random_state=5)\n",
    "Counter(y_train)"
   ]
  },
  {
   "cell_type": "code",
   "execution_count": 319,
   "id": "4ebc3e3f",
   "metadata": {},
   "outputs": [
    {
     "data": {
      "text/html": [
       "<div>\n",
       "<style scoped>\n",
       "    .dataframe tbody tr th:only-of-type {\n",
       "        vertical-align: middle;\n",
       "    }\n",
       "\n",
       "    .dataframe tbody tr th {\n",
       "        vertical-align: top;\n",
       "    }\n",
       "\n",
       "    .dataframe thead th {\n",
       "        text-align: right;\n",
       "    }\n",
       "</style>\n",
       "<table border=\"1\" class=\"dataframe\">\n",
       "  <thead>\n",
       "    <tr style=\"text-align: right;\">\n",
       "      <th></th>\n",
       "      <th>Dependents</th>\n",
       "      <th>tenure</th>\n",
       "      <th>InternetService</th>\n",
       "      <th>OnlineSecurity</th>\n",
       "      <th>OnlineBackup</th>\n",
       "      <th>DeviceProtection</th>\n",
       "      <th>TechSupport</th>\n",
       "      <th>Contract</th>\n",
       "      <th>PaperlessBilling</th>\n",
       "      <th>MonthlyCharges</th>\n",
       "    </tr>\n",
       "  </thead>\n",
       "  <tbody>\n",
       "    <tr>\n",
       "      <th>1878</th>\n",
       "      <td>1</td>\n",
       "      <td>10</td>\n",
       "      <td>0</td>\n",
       "      <td>1</td>\n",
       "      <td>0</td>\n",
       "      <td>1</td>\n",
       "      <td>1</td>\n",
       "      <td>1</td>\n",
       "      <td>0</td>\n",
       "      <td>73.55</td>\n",
       "    </tr>\n",
       "    <tr>\n",
       "      <th>1709</th>\n",
       "      <td>0</td>\n",
       "      <td>61</td>\n",
       "      <td>1</td>\n",
       "      <td>1</td>\n",
       "      <td>1</td>\n",
       "      <td>0</td>\n",
       "      <td>1</td>\n",
       "      <td>1</td>\n",
       "      <td>0</td>\n",
       "      <td>93.70</td>\n",
       "    </tr>\n",
       "    <tr>\n",
       "      <th>1490</th>\n",
       "      <td>1</td>\n",
       "      <td>34</td>\n",
       "      <td>0</td>\n",
       "      <td>0</td>\n",
       "      <td>0</td>\n",
       "      <td>1</td>\n",
       "      <td>0</td>\n",
       "      <td>1</td>\n",
       "      <td>0</td>\n",
       "      <td>77.20</td>\n",
       "    </tr>\n",
       "    <tr>\n",
       "      <th>4553</th>\n",
       "      <td>0</td>\n",
       "      <td>13</td>\n",
       "      <td>1</td>\n",
       "      <td>0</td>\n",
       "      <td>1</td>\n",
       "      <td>1</td>\n",
       "      <td>0</td>\n",
       "      <td>0</td>\n",
       "      <td>0</td>\n",
       "      <td>94.10</td>\n",
       "    </tr>\n",
       "    <tr>\n",
       "      <th>611</th>\n",
       "      <td>0</td>\n",
       "      <td>61</td>\n",
       "      <td>1</td>\n",
       "      <td>0</td>\n",
       "      <td>1</td>\n",
       "      <td>0</td>\n",
       "      <td>1</td>\n",
       "      <td>2</td>\n",
       "      <td>1</td>\n",
       "      <td>94.10</td>\n",
       "    </tr>\n",
       "    <tr>\n",
       "      <th>...</th>\n",
       "      <td>...</td>\n",
       "      <td>...</td>\n",
       "      <td>...</td>\n",
       "      <td>...</td>\n",
       "      <td>...</td>\n",
       "      <td>...</td>\n",
       "      <td>...</td>\n",
       "      <td>...</td>\n",
       "      <td>...</td>\n",
       "      <td>...</td>\n",
       "    </tr>\n",
       "    <tr>\n",
       "      <th>3046</th>\n",
       "      <td>1</td>\n",
       "      <td>72</td>\n",
       "      <td>0</td>\n",
       "      <td>1</td>\n",
       "      <td>1</td>\n",
       "      <td>1</td>\n",
       "      <td>1</td>\n",
       "      <td>2</td>\n",
       "      <td>1</td>\n",
       "      <td>65.20</td>\n",
       "    </tr>\n",
       "    <tr>\n",
       "      <th>1725</th>\n",
       "      <td>0</td>\n",
       "      <td>71</td>\n",
       "      <td>1</td>\n",
       "      <td>1</td>\n",
       "      <td>1</td>\n",
       "      <td>1</td>\n",
       "      <td>1</td>\n",
       "      <td>1</td>\n",
       "      <td>1</td>\n",
       "      <td>92.00</td>\n",
       "    </tr>\n",
       "    <tr>\n",
       "      <th>4079</th>\n",
       "      <td>0</td>\n",
       "      <td>36</td>\n",
       "      <td>1</td>\n",
       "      <td>0</td>\n",
       "      <td>1</td>\n",
       "      <td>0</td>\n",
       "      <td>0</td>\n",
       "      <td>0</td>\n",
       "      <td>1</td>\n",
       "      <td>96.50</td>\n",
       "    </tr>\n",
       "    <tr>\n",
       "      <th>2254</th>\n",
       "      <td>0</td>\n",
       "      <td>35</td>\n",
       "      <td>1</td>\n",
       "      <td>0</td>\n",
       "      <td>0</td>\n",
       "      <td>0</td>\n",
       "      <td>0</td>\n",
       "      <td>0</td>\n",
       "      <td>0</td>\n",
       "      <td>75.35</td>\n",
       "    </tr>\n",
       "    <tr>\n",
       "      <th>2915</th>\n",
       "      <td>0</td>\n",
       "      <td>1</td>\n",
       "      <td>1</td>\n",
       "      <td>0</td>\n",
       "      <td>0</td>\n",
       "      <td>0</td>\n",
       "      <td>0</td>\n",
       "      <td>0</td>\n",
       "      <td>1</td>\n",
       "      <td>69.60</td>\n",
       "    </tr>\n",
       "  </tbody>\n",
       "</table>\n",
       "<p>3944 rows × 10 columns</p>\n",
       "</div>"
      ],
      "text/plain": [
       "      Dependents  tenure  InternetService  OnlineSecurity  OnlineBackup  \\\n",
       "1878           1      10                0               1             0   \n",
       "1709           0      61                1               1             1   \n",
       "1490           1      34                0               0             0   \n",
       "4553           0      13                1               0             1   \n",
       "611            0      61                1               0             1   \n",
       "...          ...     ...              ...             ...           ...   \n",
       "3046           1      72                0               1             1   \n",
       "1725           0      71                1               1             1   \n",
       "4079           0      36                1               0             1   \n",
       "2254           0      35                1               0             0   \n",
       "2915           0       1                1               0             0   \n",
       "\n",
       "      DeviceProtection  TechSupport  Contract  PaperlessBilling  \\\n",
       "1878                 1            1         1                 0   \n",
       "1709                 0            1         1                 0   \n",
       "1490                 1            0         1                 0   \n",
       "4553                 1            0         0                 0   \n",
       "611                  0            1         2                 1   \n",
       "...                ...          ...       ...               ...   \n",
       "3046                 1            1         2                 1   \n",
       "1725                 1            1         1                 1   \n",
       "4079                 0            0         0                 1   \n",
       "2254                 0            0         0                 0   \n",
       "2915                 0            0         0                 1   \n",
       "\n",
       "      MonthlyCharges  \n",
       "1878           73.55  \n",
       "1709           93.70  \n",
       "1490           77.20  \n",
       "4553           94.10  \n",
       "611            94.10  \n",
       "...              ...  \n",
       "3046           65.20  \n",
       "1725           92.00  \n",
       "4079           96.50  \n",
       "2254           75.35  \n",
       "2915           69.60  \n",
       "\n",
       "[3944 rows x 10 columns]"
      ]
     },
     "execution_count": 319,
     "metadata": {},
     "output_type": "execute_result"
    }
   ],
   "source": [
    "x_train"
   ]
  },
  {
   "cell_type": "code",
   "execution_count": 320,
   "id": "25e10c5e",
   "metadata": {},
   "outputs": [
    {
     "data": {
      "text/html": [
       "<div>\n",
       "<style scoped>\n",
       "    .dataframe tbody tr th:only-of-type {\n",
       "        vertical-align: middle;\n",
       "    }\n",
       "\n",
       "    .dataframe tbody tr th {\n",
       "        vertical-align: top;\n",
       "    }\n",
       "\n",
       "    .dataframe thead th {\n",
       "        text-align: right;\n",
       "    }\n",
       "</style>\n",
       "<table border=\"1\" class=\"dataframe\">\n",
       "  <thead>\n",
       "    <tr style=\"text-align: right;\">\n",
       "      <th></th>\n",
       "      <th>Dependents</th>\n",
       "      <th>tenure</th>\n",
       "      <th>InternetService</th>\n",
       "      <th>OnlineSecurity</th>\n",
       "      <th>OnlineBackup</th>\n",
       "      <th>DeviceProtection</th>\n",
       "      <th>TechSupport</th>\n",
       "      <th>Contract</th>\n",
       "      <th>PaperlessBilling</th>\n",
       "      <th>MonthlyCharges</th>\n",
       "    </tr>\n",
       "  </thead>\n",
       "  <tbody>\n",
       "    <tr>\n",
       "      <th>3991</th>\n",
       "      <td>0</td>\n",
       "      <td>10</td>\n",
       "      <td>0</td>\n",
       "      <td>1</td>\n",
       "      <td>0</td>\n",
       "      <td>0</td>\n",
       "      <td>0</td>\n",
       "      <td>0</td>\n",
       "      <td>0</td>\n",
       "      <td>29.75</td>\n",
       "    </tr>\n",
       "    <tr>\n",
       "      <th>3306</th>\n",
       "      <td>0</td>\n",
       "      <td>11</td>\n",
       "      <td>0</td>\n",
       "      <td>0</td>\n",
       "      <td>1</td>\n",
       "      <td>0</td>\n",
       "      <td>0</td>\n",
       "      <td>0</td>\n",
       "      <td>0</td>\n",
       "      <td>51.10</td>\n",
       "    </tr>\n",
       "    <tr>\n",
       "      <th>1789</th>\n",
       "      <td>0</td>\n",
       "      <td>58</td>\n",
       "      <td>1</td>\n",
       "      <td>0</td>\n",
       "      <td>0</td>\n",
       "      <td>0</td>\n",
       "      <td>1</td>\n",
       "      <td>0</td>\n",
       "      <td>1</td>\n",
       "      <td>95.30</td>\n",
       "    </tr>\n",
       "    <tr>\n",
       "      <th>824</th>\n",
       "      <td>0</td>\n",
       "      <td>64</td>\n",
       "      <td>1</td>\n",
       "      <td>0</td>\n",
       "      <td>1</td>\n",
       "      <td>1</td>\n",
       "      <td>0</td>\n",
       "      <td>0</td>\n",
       "      <td>1</td>\n",
       "      <td>94.25</td>\n",
       "    </tr>\n",
       "    <tr>\n",
       "      <th>775</th>\n",
       "      <td>0</td>\n",
       "      <td>4</td>\n",
       "      <td>0</td>\n",
       "      <td>0</td>\n",
       "      <td>0</td>\n",
       "      <td>0</td>\n",
       "      <td>0</td>\n",
       "      <td>0</td>\n",
       "      <td>1</td>\n",
       "      <td>45.30</td>\n",
       "    </tr>\n",
       "    <tr>\n",
       "      <th>...</th>\n",
       "      <td>...</td>\n",
       "      <td>...</td>\n",
       "      <td>...</td>\n",
       "      <td>...</td>\n",
       "      <td>...</td>\n",
       "      <td>...</td>\n",
       "      <td>...</td>\n",
       "      <td>...</td>\n",
       "      <td>...</td>\n",
       "      <td>...</td>\n",
       "    </tr>\n",
       "    <tr>\n",
       "      <th>1343</th>\n",
       "      <td>0</td>\n",
       "      <td>17</td>\n",
       "      <td>1</td>\n",
       "      <td>0</td>\n",
       "      <td>1</td>\n",
       "      <td>0</td>\n",
       "      <td>0</td>\n",
       "      <td>0</td>\n",
       "      <td>1</td>\n",
       "      <td>83.55</td>\n",
       "    </tr>\n",
       "    <tr>\n",
       "      <th>3949</th>\n",
       "      <td>1</td>\n",
       "      <td>2</td>\n",
       "      <td>0</td>\n",
       "      <td>0</td>\n",
       "      <td>1</td>\n",
       "      <td>0</td>\n",
       "      <td>0</td>\n",
       "      <td>0</td>\n",
       "      <td>0</td>\n",
       "      <td>51.55</td>\n",
       "    </tr>\n",
       "    <tr>\n",
       "      <th>4012</th>\n",
       "      <td>0</td>\n",
       "      <td>37</td>\n",
       "      <td>1</td>\n",
       "      <td>0</td>\n",
       "      <td>1</td>\n",
       "      <td>1</td>\n",
       "      <td>0</td>\n",
       "      <td>0</td>\n",
       "      <td>1</td>\n",
       "      <td>101.90</td>\n",
       "    </tr>\n",
       "    <tr>\n",
       "      <th>3107</th>\n",
       "      <td>1</td>\n",
       "      <td>6</td>\n",
       "      <td>2</td>\n",
       "      <td>0</td>\n",
       "      <td>0</td>\n",
       "      <td>0</td>\n",
       "      <td>0</td>\n",
       "      <td>2</td>\n",
       "      <td>1</td>\n",
       "      <td>20.40</td>\n",
       "    </tr>\n",
       "    <tr>\n",
       "      <th>1291</th>\n",
       "      <td>0</td>\n",
       "      <td>42</td>\n",
       "      <td>1</td>\n",
       "      <td>0</td>\n",
       "      <td>1</td>\n",
       "      <td>1</td>\n",
       "      <td>0</td>\n",
       "      <td>0</td>\n",
       "      <td>1</td>\n",
       "      <td>95.25</td>\n",
       "    </tr>\n",
       "  </tbody>\n",
       "</table>\n",
       "<p>986 rows × 10 columns</p>\n",
       "</div>"
      ],
      "text/plain": [
       "      Dependents  tenure  InternetService  OnlineSecurity  OnlineBackup  \\\n",
       "3991           0      10                0               1             0   \n",
       "3306           0      11                0               0             1   \n",
       "1789           0      58                1               0             0   \n",
       "824            0      64                1               0             1   \n",
       "775            0       4                0               0             0   \n",
       "...          ...     ...              ...             ...           ...   \n",
       "1343           0      17                1               0             1   \n",
       "3949           1       2                0               0             1   \n",
       "4012           0      37                1               0             1   \n",
       "3107           1       6                2               0             0   \n",
       "1291           0      42                1               0             1   \n",
       "\n",
       "      DeviceProtection  TechSupport  Contract  PaperlessBilling  \\\n",
       "3991                 0            0         0                 0   \n",
       "3306                 0            0         0                 0   \n",
       "1789                 0            1         0                 1   \n",
       "824                  1            0         0                 1   \n",
       "775                  0            0         0                 1   \n",
       "...                ...          ...       ...               ...   \n",
       "1343                 0            0         0                 1   \n",
       "3949                 0            0         0                 0   \n",
       "4012                 1            0         0                 1   \n",
       "3107                 0            0         2                 1   \n",
       "1291                 1            0         0                 1   \n",
       "\n",
       "      MonthlyCharges  \n",
       "3991           29.75  \n",
       "3306           51.10  \n",
       "1789           95.30  \n",
       "824            94.25  \n",
       "775            45.30  \n",
       "...              ...  \n",
       "1343           83.55  \n",
       "3949           51.55  \n",
       "4012          101.90  \n",
       "3107           20.40  \n",
       "1291           95.25  \n",
       "\n",
       "[986 rows x 10 columns]"
      ]
     },
     "execution_count": 320,
     "metadata": {},
     "output_type": "execute_result"
    }
   ],
   "source": [
    "x_test"
   ]
  },
  {
   "cell_type": "markdown",
   "id": "713c6646",
   "metadata": {},
   "source": [
    "## Scalling Data using min_max() scaller"
   ]
  },
  {
   "cell_type": "markdown",
   "id": "7e500b51",
   "metadata": {},
   "source": [
    "Scaling Data yang memiliki range yang besar tenure dengan monthly charge"
   ]
  },
  {
   "cell_type": "code",
   "execution_count": 44,
   "id": "0cb73554",
   "metadata": {},
   "outputs": [
    {
     "data": {
      "text/html": [
       "<div>\n",
       "<style scoped>\n",
       "    .dataframe tbody tr th:only-of-type {\n",
       "        vertical-align: middle;\n",
       "    }\n",
       "\n",
       "    .dataframe tbody tr th {\n",
       "        vertical-align: top;\n",
       "    }\n",
       "\n",
       "    .dataframe thead th {\n",
       "        text-align: right;\n",
       "    }\n",
       "</style>\n",
       "<table border=\"1\" class=\"dataframe\">\n",
       "  <thead>\n",
       "    <tr style=\"text-align: right;\">\n",
       "      <th></th>\n",
       "      <th>tenure</th>\n",
       "      <th>MonthlyCharges</th>\n",
       "    </tr>\n",
       "  </thead>\n",
       "  <tbody>\n",
       "    <tr>\n",
       "      <th>1878</th>\n",
       "      <td>10</td>\n",
       "      <td>73.55</td>\n",
       "    </tr>\n",
       "    <tr>\n",
       "      <th>1709</th>\n",
       "      <td>61</td>\n",
       "      <td>93.70</td>\n",
       "    </tr>\n",
       "    <tr>\n",
       "      <th>1490</th>\n",
       "      <td>34</td>\n",
       "      <td>77.20</td>\n",
       "    </tr>\n",
       "    <tr>\n",
       "      <th>4553</th>\n",
       "      <td>13</td>\n",
       "      <td>94.10</td>\n",
       "    </tr>\n",
       "    <tr>\n",
       "      <th>611</th>\n",
       "      <td>61</td>\n",
       "      <td>94.10</td>\n",
       "    </tr>\n",
       "    <tr>\n",
       "      <th>...</th>\n",
       "      <td>...</td>\n",
       "      <td>...</td>\n",
       "    </tr>\n",
       "    <tr>\n",
       "      <th>3046</th>\n",
       "      <td>72</td>\n",
       "      <td>65.20</td>\n",
       "    </tr>\n",
       "    <tr>\n",
       "      <th>1725</th>\n",
       "      <td>71</td>\n",
       "      <td>92.00</td>\n",
       "    </tr>\n",
       "    <tr>\n",
       "      <th>4079</th>\n",
       "      <td>36</td>\n",
       "      <td>96.50</td>\n",
       "    </tr>\n",
       "    <tr>\n",
       "      <th>2254</th>\n",
       "      <td>35</td>\n",
       "      <td>75.35</td>\n",
       "    </tr>\n",
       "    <tr>\n",
       "      <th>2915</th>\n",
       "      <td>1</td>\n",
       "      <td>69.60</td>\n",
       "    </tr>\n",
       "  </tbody>\n",
       "</table>\n",
       "<p>3944 rows × 2 columns</p>\n",
       "</div>"
      ],
      "text/plain": [
       "      tenure  MonthlyCharges\n",
       "1878      10           73.55\n",
       "1709      61           93.70\n",
       "1490      34           77.20\n",
       "4553      13           94.10\n",
       "611       61           94.10\n",
       "...      ...             ...\n",
       "3046      72           65.20\n",
       "1725      71           92.00\n",
       "4079      36           96.50\n",
       "2254      35           75.35\n",
       "2915       1           69.60\n",
       "\n",
       "[3944 rows x 2 columns]"
      ]
     },
     "execution_count": 44,
     "metadata": {},
     "output_type": "execute_result"
    }
   ],
   "source": [
    "x_train[[ 'tenure','MonthlyCharges']]"
   ]
  },
  {
   "cell_type": "code",
   "execution_count": 322,
   "id": "433870d3",
   "metadata": {},
   "outputs": [],
   "source": [
    "from sklearn.preprocessing import MinMaxScaler\n",
    "scaler = MinMaxScaler()\n",
    "\n",
    "scaled_train=np.array(x_train[[ 'tenure']]).reshape(-1,1)\n",
    "\n",
    "scaler = scaler.fit(scaled_train)\n",
    "\n",
    "x_train[[ 'tenure']] = scaler.transform(scaled_train)\n",
    "\n",
    "scaled_test=np.array(x_test[['tenure']]).reshape(-1,1)\n",
    "\n",
    "x_test[['tenure']] = scaler.transform(scaled_test)"
   ]
  },
  {
   "cell_type": "code",
   "execution_count": 323,
   "id": "95f1b31c",
   "metadata": {},
   "outputs": [],
   "source": [
    "from sklearn.preprocessing import MinMaxScaler\n",
    "scaler = MinMaxScaler()\n",
    "\n",
    "scaled_train=np.array(x_train[[ 'MonthlyCharges']]).reshape(-1,1)\n",
    "\n",
    "scaler = scaler.fit(scaled_train)\n",
    "\n",
    "x_train[[ 'MonthlyCharges']] = scaler.transform(scaled_train)\n",
    "\n",
    "scaled_test=np.array(x_test[['MonthlyCharges']]).reshape(-1,1)\n",
    "\n",
    "x_test[['MonthlyCharges']] = scaler.transform(scaled_test)"
   ]
  },
  {
   "cell_type": "code",
   "execution_count": 324,
   "id": "a7785f44",
   "metadata": {},
   "outputs": [
    {
     "data": {
      "text/html": [
       "<div>\n",
       "<style scoped>\n",
       "    .dataframe tbody tr th:only-of-type {\n",
       "        vertical-align: middle;\n",
       "    }\n",
       "\n",
       "    .dataframe tbody tr th {\n",
       "        vertical-align: top;\n",
       "    }\n",
       "\n",
       "    .dataframe thead th {\n",
       "        text-align: right;\n",
       "    }\n",
       "</style>\n",
       "<table border=\"1\" class=\"dataframe\">\n",
       "  <thead>\n",
       "    <tr style=\"text-align: right;\">\n",
       "      <th></th>\n",
       "      <th>Dependents</th>\n",
       "      <th>tenure</th>\n",
       "      <th>InternetService</th>\n",
       "      <th>OnlineSecurity</th>\n",
       "      <th>OnlineBackup</th>\n",
       "      <th>DeviceProtection</th>\n",
       "      <th>TechSupport</th>\n",
       "      <th>Contract</th>\n",
       "      <th>PaperlessBilling</th>\n",
       "      <th>MonthlyCharges</th>\n",
       "    </tr>\n",
       "  </thead>\n",
       "  <tbody>\n",
       "    <tr>\n",
       "      <th>count</th>\n",
       "      <td>3944.000000</td>\n",
       "      <td>3944.000000</td>\n",
       "      <td>3944.000000</td>\n",
       "      <td>3944.000000</td>\n",
       "      <td>3944.000000</td>\n",
       "      <td>3944.000000</td>\n",
       "      <td>3944.000000</td>\n",
       "      <td>3944.000000</td>\n",
       "      <td>3944.000000</td>\n",
       "      <td>3944.000000</td>\n",
       "    </tr>\n",
       "    <tr>\n",
       "      <th>mean</th>\n",
       "      <td>0.301217</td>\n",
       "      <td>0.451568</td>\n",
       "      <td>0.872211</td>\n",
       "      <td>0.289554</td>\n",
       "      <td>0.348884</td>\n",
       "      <td>0.346349</td>\n",
       "      <td>0.287272</td>\n",
       "      <td>0.685345</td>\n",
       "      <td>0.597110</td>\n",
       "      <td>0.461198</td>\n",
       "    </tr>\n",
       "    <tr>\n",
       "      <th>std</th>\n",
       "      <td>0.458845</td>\n",
       "      <td>0.339937</td>\n",
       "      <td>0.737667</td>\n",
       "      <td>0.453613</td>\n",
       "      <td>0.476678</td>\n",
       "      <td>0.475866</td>\n",
       "      <td>0.452547</td>\n",
       "      <td>0.826660</td>\n",
       "      <td>0.490541</td>\n",
       "      <td>0.300739</td>\n",
       "    </tr>\n",
       "    <tr>\n",
       "      <th>min</th>\n",
       "      <td>0.000000</td>\n",
       "      <td>0.000000</td>\n",
       "      <td>0.000000</td>\n",
       "      <td>0.000000</td>\n",
       "      <td>0.000000</td>\n",
       "      <td>0.000000</td>\n",
       "      <td>0.000000</td>\n",
       "      <td>0.000000</td>\n",
       "      <td>0.000000</td>\n",
       "      <td>0.000000</td>\n",
       "    </tr>\n",
       "    <tr>\n",
       "      <th>25%</th>\n",
       "      <td>0.000000</td>\n",
       "      <td>0.125000</td>\n",
       "      <td>0.000000</td>\n",
       "      <td>0.000000</td>\n",
       "      <td>0.000000</td>\n",
       "      <td>0.000000</td>\n",
       "      <td>0.000000</td>\n",
       "      <td>0.000000</td>\n",
       "      <td>0.000000</td>\n",
       "      <td>0.171257</td>\n",
       "    </tr>\n",
       "    <tr>\n",
       "      <th>50%</th>\n",
       "      <td>0.000000</td>\n",
       "      <td>0.402778</td>\n",
       "      <td>1.000000</td>\n",
       "      <td>0.000000</td>\n",
       "      <td>0.000000</td>\n",
       "      <td>0.000000</td>\n",
       "      <td>0.000000</td>\n",
       "      <td>0.000000</td>\n",
       "      <td>1.000000</td>\n",
       "      <td>0.516274</td>\n",
       "    </tr>\n",
       "    <tr>\n",
       "      <th>75%</th>\n",
       "      <td>1.000000</td>\n",
       "      <td>0.777778</td>\n",
       "      <td>1.000000</td>\n",
       "      <td>1.000000</td>\n",
       "      <td>1.000000</td>\n",
       "      <td>1.000000</td>\n",
       "      <td>1.000000</td>\n",
       "      <td>1.000000</td>\n",
       "      <td>1.000000</td>\n",
       "      <td>0.713570</td>\n",
       "    </tr>\n",
       "    <tr>\n",
       "      <th>max</th>\n",
       "      <td>1.000000</td>\n",
       "      <td>1.000000</td>\n",
       "      <td>2.000000</td>\n",
       "      <td>1.000000</td>\n",
       "      <td>1.000000</td>\n",
       "      <td>1.000000</td>\n",
       "      <td>1.000000</td>\n",
       "      <td>2.000000</td>\n",
       "      <td>1.000000</td>\n",
       "      <td>1.000000</td>\n",
       "    </tr>\n",
       "  </tbody>\n",
       "</table>\n",
       "</div>"
      ],
      "text/plain": [
       "        Dependents       tenure  InternetService  OnlineSecurity  \\\n",
       "count  3944.000000  3944.000000      3944.000000     3944.000000   \n",
       "mean      0.301217     0.451568         0.872211        0.289554   \n",
       "std       0.458845     0.339937         0.737667        0.453613   \n",
       "min       0.000000     0.000000         0.000000        0.000000   \n",
       "25%       0.000000     0.125000         0.000000        0.000000   \n",
       "50%       0.000000     0.402778         1.000000        0.000000   \n",
       "75%       1.000000     0.777778         1.000000        1.000000   \n",
       "max       1.000000     1.000000         2.000000        1.000000   \n",
       "\n",
       "       OnlineBackup  DeviceProtection  TechSupport     Contract  \\\n",
       "count   3944.000000       3944.000000  3944.000000  3944.000000   \n",
       "mean       0.348884          0.346349     0.287272     0.685345   \n",
       "std        0.476678          0.475866     0.452547     0.826660   \n",
       "min        0.000000          0.000000     0.000000     0.000000   \n",
       "25%        0.000000          0.000000     0.000000     0.000000   \n",
       "50%        0.000000          0.000000     0.000000     0.000000   \n",
       "75%        1.000000          1.000000     1.000000     1.000000   \n",
       "max        1.000000          1.000000     1.000000     2.000000   \n",
       "\n",
       "       PaperlessBilling  MonthlyCharges  \n",
       "count       3944.000000     3944.000000  \n",
       "mean           0.597110        0.461198  \n",
       "std            0.490541        0.300739  \n",
       "min            0.000000        0.000000  \n",
       "25%            0.000000        0.171257  \n",
       "50%            1.000000        0.516274  \n",
       "75%            1.000000        0.713570  \n",
       "max            1.000000        1.000000  "
      ]
     },
     "execution_count": 324,
     "metadata": {},
     "output_type": "execute_result"
    }
   ],
   "source": [
    "x_train.describe()"
   ]
  },
  {
   "cell_type": "markdown",
   "id": "2558a32b",
   "metadata": {},
   "source": [
    "## **SMOTE for imbalance data**\n",
    "Next, we oversample the data using SMOTE. We try oversampling the data to 55:45\n",
    "\n",
    "**Random Oversampling: Randomly duplicate examples in the minority class.**\n",
    "\n",
    "\n",
    "Random Undersampling: Randomly delete examples in the majority class.\n"
   ]
  },
  {
   "cell_type": "code",
   "execution_count": 55,
   "id": "79d52886",
   "metadata": {},
   "outputs": [],
   "source": [
    "from imblearn.over_sampling import SMOTE"
   ]
  },
  {
   "cell_type": "code",
   "execution_count": 56,
   "id": "674a6fa7",
   "metadata": {},
   "outputs": [],
   "source": [
    "from imblearn.datasets import make_imbalance\n",
    "from imblearn.under_sampling import NearMiss\n",
    "from imblearn.pipeline import make_pipeline\n",
    "from imblearn.metrics import classification_report_imbalanced"
   ]
  },
  {
   "cell_type": "code",
   "execution_count": 57,
   "id": "db0c5667",
   "metadata": {},
   "outputs": [],
   "source": [
    "from imblearn.over_sampling import SMOTE"
   ]
  },
  {
   "cell_type": "code",
   "execution_count": 58,
   "id": "827cbe15",
   "metadata": {},
   "outputs": [
    {
     "data": {
      "text/plain": [
       "Counter({0: 2895, 1: 2316})"
      ]
     },
     "execution_count": 58,
     "metadata": {},
     "output_type": "execute_result"
    }
   ],
   "source": [
    "from imblearn.over_sampling import SMOTE\n",
    "\n",
    "sm = SMOTE(sampling_strategy = 0.8, k_neighbors=5, random_state=5)\n",
    "x_resample, y_resample = sm.fit_resample(x_train, y_train)\n",
    "Counter(y_resample)"
   ]
  },
  {
   "cell_type": "code",
   "execution_count": 59,
   "id": "bdc3c029",
   "metadata": {},
   "outputs": [
    {
     "data": {
      "text/plain": [
       "(5211, 10)"
      ]
     },
     "execution_count": 59,
     "metadata": {},
     "output_type": "execute_result"
    }
   ],
   "source": [
    "x_resample.shape"
   ]
  },
  {
   "cell_type": "markdown",
   "id": "989bcbf6",
   "metadata": {},
   "source": [
    "you can see that the data can balance class 0 and class 1\n",
    "\n",
    "And we also try oversample 60:40"
   ]
  },
  {
   "cell_type": "code",
   "execution_count": 60,
   "id": "6c7aa101",
   "metadata": {},
   "outputs": [
    {
     "data": {
      "text/plain": [
       "Counter({0: 2895, 1: 1910})"
      ]
     },
     "execution_count": 60,
     "metadata": {},
     "output_type": "execute_result"
    }
   ],
   "source": [
    "sm = SMOTE(sampling_strategy = 0.66, k_neighbors=5, random_state=5)\n",
    "\n",
    "x_resample_2, y_resample_2 = sm.fit_resample(x_train, y_train)\n",
    "Counter(y_resample_2)"
   ]
  },
  {
   "cell_type": "markdown",
   "id": "9ec82355",
   "metadata": {},
   "source": [
    "# Machine Learning Modelling"
   ]
  },
  {
   "cell_type": "code",
   "execution_count": 62,
   "id": "22a92e7f",
   "metadata": {},
   "outputs": [
    {
     "name": "stdout",
     "output_type": "stream",
     "text": [
      "Collecting lightgbm\n",
      "  Downloading lightgbm-3.3.2-py3-none-win_amd64.whl (1.0 MB)\n",
      "Requirement already satisfied: wheel in c:\\programdata\\anaconda3\\lib\\site-packages (from lightgbm) (0.37.0)\n",
      "Requirement already satisfied: scikit-learn!=0.22.0 in c:\\programdata\\anaconda3\\lib\\site-packages (from lightgbm) (1.1.1)\n",
      "Requirement already satisfied: numpy in c:\\programdata\\anaconda3\\lib\\site-packages (from lightgbm) (1.20.3)\n",
      "Requirement already satisfied: scipy in c:\\programdata\\anaconda3\\lib\\site-packages (from lightgbm) (1.7.1)\n",
      "Requirement already satisfied: threadpoolctl>=2.0.0 in c:\\programdata\\anaconda3\\lib\\site-packages (from scikit-learn!=0.22.0->lightgbm) (2.2.0)\n",
      "Requirement already satisfied: joblib>=1.0.0 in c:\\programdata\\anaconda3\\lib\\site-packages (from scikit-learn!=0.22.0->lightgbm) (1.1.0)\n",
      "Installing collected packages: lightgbm\n",
      "Successfully installed lightgbm-3.3.2\n"
     ]
    }
   ],
   "source": [
    "!pip install lightgbm"
   ]
  },
  {
   "cell_type": "code",
   "execution_count": 63,
   "id": "ea02d7f4",
   "metadata": {},
   "outputs": [],
   "source": [
    "#using 4 model\n",
    "from sklearn.metrics import accuracy_score\n",
    "from sklearn.metrics import confusion_matrix\n",
    "from sklearn.metrics import recall_score\n",
    "from sklearn.metrics import precision_score\n",
    "from sklearn.metrics import classification_report, accuracy_score\n",
    "from sklearn.model_selection import cross_val_score\n",
    "from sklearn.model_selection import KFold\n",
    "from sklearn.model_selection import cross_validate\n",
    "from sklearn.model_selection import GridSearchCV\n",
    "from sklearn.metrics import plot_confusion_matrix\n",
    "from sklearn.ensemble import RandomForestClassifier\n",
    "from sklearn.ensemble import GradientBoostingClassifier\n",
    "from sklearn.ensemble import AdaBoostClassifier\n",
    "from lightgbm import LGBMClassifier"
   ]
  },
  {
   "cell_type": "markdown",
   "id": "d0344495",
   "metadata": {},
   "source": [
    "---------------------------------------------------"
   ]
  },
  {
   "cell_type": "markdown",
   "id": "33d6c46d",
   "metadata": {},
   "source": [
    "## Random Forest Classification without oversample"
   ]
  },
  {
   "cell_type": "code",
   "execution_count": 122,
   "id": "4906bacf",
   "metadata": {},
   "outputs": [
    {
     "name": "stdout",
     "output_type": "stream",
     "text": [
      "[[628  91]\n",
      " [119 148]]\n",
      "Akurasi dari Random Forest adalah: 78.70\n",
      "Recall dari Random Forest adalah: 55.430711610486895\n",
      "Precision dari Random Forest adalah: 61.92468619246861\n"
     ]
    }
   ],
   "source": [
    "rf = RandomForestClassifier(random_state=5, criterion='entropy', n_estimators=18, max_depth=12)\n",
    "rf.fit(x_train, y_train)  \n",
    "prediction = rf.predict(x_test)\n",
    "print(confusion_matrix(y_test, prediction))\n",
    "print(\"Akurasi dari Random Forest adalah: %.2f\" % (accuracy_score(y_test, prediction)*100) )\n",
    "\n",
    "print(\"Recall dari Random Forest adalah:\",recall_score(y_test, prediction)*100)\n",
    "\n",
    "print(\"Precision dari Random Forest adalah:\",precision_score(y_test, prediction)*100)"
   ]
  },
  {
   "cell_type": "code",
   "execution_count": 123,
   "id": "4e48d638",
   "metadata": {},
   "outputs": [
    {
     "name": "stdout",
     "output_type": "stream",
     "text": [
      "Recall: 0.5543071161048689\n",
      "Precision: 0.6192468619246861\n",
      "F1-Score: 0.5849802371541502\n"
     ]
    }
   ],
   "source": [
    "from sklearn.metrics import f1_score, precision_score, recall_score #pip install sklearn\n",
    "print('Recall: {}'.format(recall_score(y_test, prediction)))\n",
    "print('Precision: {}'.format(precision_score(y_test, prediction)))\n",
    "print('F1-Score: {}'.format(f1_score(y_test, prediction)))"
   ]
  },
  {
   "cell_type": "code",
   "execution_count": null,
   "id": "2cd6b7c0",
   "metadata": {},
   "outputs": [],
   "source": [
    "fpr, tpr, _ = roc_curve(Y_test, y_scores)\n",
    "    roc_auc = auc(fpr, tpr)\n",
    "    average_precision = average_precision_score(Y_test, y_scores)\n",
    "    precision, recall, _ = precision_recall_curve(Y_test, y_scores)\n",
    "    "
   ]
  },
  {
   "cell_type": "markdown",
   "id": "2235545a",
   "metadata": {},
   "source": [
    "## **Hyperparameter Tuning**\n",
    "Choose following method for hyperparameter tuning\n",
    "RandomizedSearchCV --> Fast\n",
    "GridSearchCV\n",
    "Assign hyperparameters in form of dictionery\n",
    "Fit the model\n",
    "Check best paramters and best score\n"
   ]
  },
  {
   "cell_type": "code",
   "execution_count": 130,
   "id": "743aaf28",
   "metadata": {},
   "outputs": [],
   "source": [
    "from sklearn.model_selection import RandomizedSearchCV"
   ]
  },
  {
   "cell_type": "code",
   "execution_count": 132,
   "id": "2759ccb9",
   "metadata": {},
   "outputs": [],
   "source": [
    "param_grid={\n",
    "    'learning_rate':[1,0.5,0.1,0.01],\n",
    "    'max_depth':[3,5,10,20],\n",
    "    'n_estimators':[10,50,100,200]\n",
    "}"
   ]
  },
  {
   "cell_type": "markdown",
   "id": "f7444a79",
   "metadata": {},
   "source": [
    "## *Tidak menggunakan Data Training SMOTE*"
   ]
  },
  {
   "cell_type": "code",
   "execution_count": 201,
   "id": "c25ee7c3",
   "metadata": {},
   "outputs": [],
   "source": [
    "# XGBoost clasifier\n",
    "from xgboost import XGBClassifier\n",
    "xg = XGBClassifier(objective='binary:logistic')\n",
    "modelxgb_hyperparam = xg.fit(x_train, y_train)\n",
    "y_pred_modelxgb_hyperparam = modelxgb_hyperparam.predict(x_test)"
   ]
  },
  {
   "cell_type": "code",
   "execution_count": 202,
   "id": "fc0ef7ae",
   "metadata": {},
   "outputs": [
    {
     "name": "stdout",
     "output_type": "stream",
     "text": [
      "testing accuracy is :  78.90466531440163\n"
     ]
    }
   ],
   "source": [
    "# checking accuracy of test dataset\n",
    "print(\"testing accuracy is : \", modelxgb_hyperparam.score(x_test, y_test)*100)\n"
   ]
  },
  {
   "cell_type": "code",
   "execution_count": 205,
   "id": "b38b4408",
   "metadata": {},
   "outputs": [
    {
     "name": "stdout",
     "output_type": "stream",
     "text": [
      "[[634  85]\n",
      " [123 144]]\n",
      "Akurasi dari Random Forest adalah: 78.90\n",
      "Recall dari Random Forest adalah: 53.93258426966292\n",
      "Precision dari Random Forest adalah: 62.882096069869\n",
      "F1-Score: 58.06451612903226\n"
     ]
    }
   ],
   "source": [
    "print(confusion_matrix(y_test, y_pred_modelxgb_hyperparam))\n",
    "print(\"Akurasi dari Random Forest adalah: %.2f\" % (accuracy_score(y_test, y_pred_modelxgb_hyperparam)*100) )\n",
    "print(\"Recall dari Random Forest adalah:\",recall_score(y_test, y_pred_modelxgb_hyperparam)*100)\n",
    "print(\"Precision dari Random Forest adalah:\",precision_score(y_test, y_pred_modelxgb_hyperparam)*100)\n",
    "print('F1-Score: {}'.format(f1_score(y_test, y_pred_modelxgb_hyperparam)*100))"
   ]
  },
  {
   "cell_type": "code",
   "execution_count": 212,
   "id": "963a3df9",
   "metadata": {},
   "outputs": [
    {
     "data": {
      "text/plain": [
       "<matplotlib.legend.Legend at 0x287cbf755e0>"
      ]
     },
     "execution_count": 212,
     "metadata": {},
     "output_type": "execute_result"
    },
    {
     "data": {
      "image/png": "[encoded data removed]",
      "text/plain": [
       "<Figure size 1152x576 with 1 Axes>"
      ]
     },
     "metadata": {
      "needs_background": "light"
     },
     "output_type": "display_data"
    }
   ],
   "source": [
    "test_xgb_h = pd.DataFrame({'Predicted value':y_pred_modelxgb_hyperparam, 'Actual value':y_test})\n",
    "fig= plt.figure(figsize=(16,8))\n",
    "test_xgb_h = test_xgb_h.reset_index()\n",
    "test_xgb_h = test_xgb_h.drop(['index'],axis=1)\n",
    "plt.plot(test_xgb_h[:15])\n",
    "plt.legend(['Actual value','Predicted value'])"
   ]
  },
  {
   "cell_type": "code",
   "execution_count": 209,
   "id": "f6fce5c6",
   "metadata": {},
   "outputs": [
    {
     "data": {
      "text/plain": [
       "3991    0\n",
       "3306    0\n",
       "1789    0\n",
       "824     0\n",
       "775     1\n",
       "       ..\n",
       "1343    0\n",
       "3949    0\n",
       "4012    1\n",
       "3107    0\n",
       "1291    1\n",
       "Name: Churn, Length: 986, dtype: int32"
      ]
     },
     "execution_count": 209,
     "metadata": {},
     "output_type": "execute_result"
    }
   ],
   "source": [
    "y_test"
   ]
  },
  {
   "cell_type": "code",
   "execution_count": null,
   "id": "5c882b76",
   "metadata": {},
   "outputs": [],
   "source": [
    "# plot loss during training\n",
    "pyplot.subplot(211)\n",
    "pyplot.title('Loss')\n",
    "pyplot.plot(predictionxg.history['loss'], label='train')\n",
    "pyplot.plot(predictionxg.history['val_loss'], label='test')\n",
    "pyplot.legend()\n",
    "# plot accuracy during training\n",
    "pyplot.subplot(212)\n",
    "pyplot.title('Accuracy')\n",
    "pyplot.plot(history.history['accuracy'], label='train')\n",
    "pyplot.plot(history.history['val_accuracy'], label='test')\n",
    "pyplot.legend()\n",
    "pyplot.show()"
   ]
  },
  {
   "cell_type": "markdown",
   "id": "f11c1cf8",
   "metadata": {},
   "source": [
    "### Memilih data training tanpa di smote untuk dilanjukan ke step hyperparameter tuning"
   ]
  },
  {
   "cell_type": "markdown",
   "id": "7d78474b",
   "metadata": {},
   "source": [
    "RandomizedSearchCV"
   ]
  },
  {
   "cell_type": "code",
   "execution_count": 230,
   "id": "fa9a32e0",
   "metadata": {},
   "outputs": [],
   "source": [
    "from sklearn.model_selection import RandomizedSearchCV"
   ]
  },
  {
   "cell_type": "code",
   "execution_count": 231,
   "id": "05621545",
   "metadata": {},
   "outputs": [],
   "source": [
    "param_grid={\n",
    "    'learning_rate':[1,0.5,0.1,0.01],\n",
    "    'max_depth':[3,5,10,20],\n",
    "    'n_estimators':[10,50,100,200]\n",
    "}"
   ]
  },
  {
   "cell_type": "code",
   "execution_count": 232,
   "id": "6f9fa579",
   "metadata": {},
   "outputs": [],
   "source": [
    "grid = RandomizedSearchCV(XGBClassifier(objective='binary:logistic'), param_grid, verbose=3)"
   ]
  },
  {
   "cell_type": "code",
   "execution_count": 233,
   "id": "d6e69f6f",
   "metadata": {},
   "outputs": [
    {
     "name": "stdout",
     "output_type": "stream",
     "text": [
      "Fitting 5 folds for each of 10 candidates, totalling 50 fits\n",
      "[CV 1/5] END learning_rate=0.1, max_depth=3, n_estimators=50;, score=0.802 total time=   0.0s\n",
      "[CV 2/5] END learning_rate=0.1, max_depth=3, n_estimators=50;, score=0.783 total time=   0.0s\n",
      "[CV 3/5] END learning_rate=0.1, max_depth=3, n_estimators=50;, score=0.788 total time=   0.0s\n",
      "[CV 4/5] END learning_rate=0.1, max_depth=3, n_estimators=50;, score=0.812 total time=   0.0s\n",
      "[CV 5/5] END learning_rate=0.1, max_depth=3, n_estimators=50;, score=0.821 total time=   0.0s\n",
      "[CV 1/5] END learning_rate=1, max_depth=3, n_estimators=50;, score=0.783 total time=   0.0s\n",
      "[CV 2/5] END learning_rate=1, max_depth=3, n_estimators=50;, score=0.755 total time=   0.0s\n",
      "[CV 3/5] END learning_rate=1, max_depth=3, n_estimators=50;, score=0.777 total time=   0.0s\n",
      "[CV 4/5] END learning_rate=1, max_depth=3, n_estimators=50;, score=0.781 total time=   0.0s\n",
      "[CV 5/5] END learning_rate=1, max_depth=3, n_estimators=50;, score=0.791 total time=   0.0s\n",
      "[CV 1/5] END learning_rate=1, max_depth=5, n_estimators=200;, score=0.766 total time=   0.2s\n",
      "[CV 2/5] END learning_rate=1, max_depth=5, n_estimators=200;, score=0.748 total time=   0.3s\n",
      "[CV 3/5] END learning_rate=1, max_depth=5, n_estimators=200;, score=0.760 total time=   0.2s\n",
      "[CV 4/5] END learning_rate=1, max_depth=5, n_estimators=200;, score=0.776 total time=   0.3s\n",
      "[CV 5/5] END learning_rate=1, max_depth=5, n_estimators=200;, score=0.769 total time=   0.2s\n",
      "[CV 1/5] END learning_rate=0.01, max_depth=10, n_estimators=200;, score=0.788 total time=   0.6s\n",
      "[CV 2/5] END learning_rate=0.01, max_depth=10, n_estimators=200;, score=0.743 total time=   0.6s\n",
      "[CV 3/5] END learning_rate=0.01, max_depth=10, n_estimators=200;, score=0.769 total time=   0.6s\n",
      "[CV 4/5] END learning_rate=0.01, max_depth=10, n_estimators=200;, score=0.791 total time=   0.5s\n",
      "[CV 5/5] END learning_rate=0.01, max_depth=10, n_estimators=200;, score=0.797 total time=   0.6s\n",
      "[CV 1/5] END learning_rate=0.5, max_depth=20, n_estimators=10;, score=0.787 total time=   0.0s\n",
      "[CV 2/5] END learning_rate=0.5, max_depth=20, n_estimators=10;, score=0.743 total time=   0.0s\n",
      "[CV 3/5] END learning_rate=0.5, max_depth=20, n_estimators=10;, score=0.758 total time=   0.0s\n",
      "[CV 4/5] END learning_rate=0.5, max_depth=20, n_estimators=10;, score=0.785 total time=   0.0s\n",
      "[CV 5/5] END learning_rate=0.5, max_depth=20, n_estimators=10;, score=0.782 total time=   0.0s\n",
      "[CV 1/5] END learning_rate=0.5, max_depth=20, n_estimators=100;, score=0.774 total time=   0.4s\n",
      "[CV 2/5] END learning_rate=0.5, max_depth=20, n_estimators=100;, score=0.736 total time=   0.3s\n",
      "[CV 3/5] END learning_rate=0.5, max_depth=20, n_estimators=100;, score=0.757 total time=   0.3s\n",
      "[CV 4/5] END learning_rate=0.5, max_depth=20, n_estimators=100;, score=0.783 total time=   0.4s\n",
      "[CV 5/5] END learning_rate=0.5, max_depth=20, n_estimators=100;, score=0.768 total time=   0.4s\n",
      "[CV 1/5] END learning_rate=0.5, max_depth=20, n_estimators=200;, score=0.774 total time=   0.8s\n",
      "[CV 2/5] END learning_rate=0.5, max_depth=20, n_estimators=200;, score=0.736 total time=   0.7s\n",
      "[CV 3/5] END learning_rate=0.5, max_depth=20, n_estimators=200;, score=0.750 total time=   0.7s\n",
      "[CV 4/5] END learning_rate=0.5, max_depth=20, n_estimators=200;, score=0.781 total time=   0.7s\n",
      "[CV 5/5] END learning_rate=0.5, max_depth=20, n_estimators=200;, score=0.764 total time=   0.7s\n",
      "[CV 1/5] END learning_rate=0.01, max_depth=20, n_estimators=100;, score=0.773 total time=   0.3s\n",
      "[CV 2/5] END learning_rate=0.01, max_depth=20, n_estimators=100;, score=0.752 total time=   0.3s\n",
      "[CV 3/5] END learning_rate=0.01, max_depth=20, n_estimators=100;, score=0.773 total time=   0.4s\n",
      "[CV 4/5] END learning_rate=0.01, max_depth=20, n_estimators=100;, score=0.779 total time=   0.4s\n",
      "[CV 5/5] END learning_rate=0.01, max_depth=20, n_estimators=100;, score=0.774 total time=   0.4s\n",
      "[CV 1/5] END learning_rate=0.1, max_depth=20, n_estimators=10;, score=0.777 total time=   0.0s\n",
      "[CV 2/5] END learning_rate=0.1, max_depth=20, n_estimators=10;, score=0.749 total time=   0.0s\n",
      "[CV 3/5] END learning_rate=0.1, max_depth=20, n_estimators=10;, score=0.778 total time=   0.0s\n",
      "[CV 4/5] END learning_rate=0.1, max_depth=20, n_estimators=10;, score=0.778 total time=   0.0s\n",
      "[CV 5/5] END learning_rate=0.1, max_depth=20, n_estimators=10;, score=0.782 total time=   0.0s\n",
      "[CV 1/5] END learning_rate=0.5, max_depth=10, n_estimators=50;, score=0.781 total time=   0.1s\n",
      "[CV 2/5] END learning_rate=0.5, max_depth=10, n_estimators=50;, score=0.747 total time=   0.1s\n",
      "[CV 3/5] END learning_rate=0.5, max_depth=10, n_estimators=50;, score=0.754 total time=   0.1s\n",
      "[CV 4/5] END learning_rate=0.5, max_depth=10, n_estimators=50;, score=0.777 total time=   0.1s\n",
      "[CV 5/5] END learning_rate=0.5, max_depth=10, n_estimators=50;, score=0.775 total time=   0.1s\n"
     ]
    },
    {
     "data": {
      "text/html": [
       "<style>#sk-container-id-18 {color: black;background-color: white;}#sk-container-id-18 pre{padding: 0;}#sk-container-id-18 div.sk-toggleable {background-color: white;}#sk-container-id-18 label.sk-toggleable__label {cursor: pointer;display: block;width: 100%;margin-bottom: 0;padding: 0.3em;box-sizing: border-box;text-align: center;}#sk-container-id-18 label.sk-toggleable__label-arrow:before {content: \"▸\";float: left;margin-right: 0.25em;color: #696969;}#sk-container-id-18 label.sk-toggleable__label-arrow:hover:before {color: black;}#sk-container-id-18 div.sk-estimator:hover label.sk-toggleable__label-arrow:before {color: black;}#sk-container-id-18 div.sk-toggleable__content {max-height: 0;max-width: 0;overflow: hidden;text-align: left;background-color: #f0f8ff;}#sk-container-id-18 div.sk-toggleable__content pre {margin: 0.2em;color: black;border-radius: 0.25em;background-color: #f0f8ff;}#sk-container-id-18 input.sk-toggleable__control:checked~div.sk-toggleable__content {max-height: 200px;max-width: 100%;overflow: auto;}#sk-container-id-18 input.sk-toggleable__control:checked~label.sk-toggleable__label-arrow:before {content: \"▾\";}#sk-container-id-18 div.sk-estimator input.sk-toggleable__control:checked~label.sk-toggleable__label {background-color: #d4ebff;}#sk-container-id-18 div.sk-label input.sk-toggleable__control:checked~label.sk-toggleable__label {background-color: #d4ebff;}#sk-container-id-18 input.sk-hidden--visually {border: 0;clip: rect(1px 1px 1px 1px);clip: rect(1px, 1px, 1px, 1px);height: 1px;margin: -1px;overflow: hidden;padding: 0;position: absolute;width: 1px;}#sk-container-id-18 div.sk-estimator {font-family: monospace;background-color: #f0f8ff;border: 1px dotted black;border-radius: 0.25em;box-sizing: border-box;margin-bottom: 0.5em;}#sk-container-id-18 div.sk-estimator:hover {background-color: #d4ebff;}#sk-container-id-18 div.sk-parallel-item::after {content: \"\";width: 100%;border-bottom: 1px solid gray;flex-grow: 1;}#sk-container-id-18 div.sk-label:hover label.sk-toggleable__label {background-color: #d4ebff;}#sk-container-id-18 div.sk-serial::before {content: \"\";position: absolute;border-left: 1px solid gray;box-sizing: border-box;top: 0;bottom: 0;left: 50%;z-index: 0;}#sk-container-id-18 div.sk-serial {display: flex;flex-direction: column;align-items: center;background-color: white;padding-right: 0.2em;padding-left: 0.2em;position: relative;}#sk-container-id-18 div.sk-item {position: relative;z-index: 1;}#sk-container-id-18 div.sk-parallel {display: flex;align-items: stretch;justify-content: center;background-color: white;position: relative;}#sk-container-id-18 div.sk-item::before, #sk-container-id-18 div.sk-parallel-item::before {content: \"\";position: absolute;border-left: 1px solid gray;box-sizing: border-box;top: 0;bottom: 0;left: 50%;z-index: -1;}#sk-container-id-18 div.sk-parallel-item {display: flex;flex-direction: column;z-index: 1;position: relative;background-color: white;}#sk-container-id-18 div.sk-parallel-item:first-child::after {align-self: flex-end;width: 50%;}#sk-container-id-18 div.sk-parallel-item:last-child::after {align-self: flex-start;width: 50%;}#sk-container-id-18 div.sk-parallel-item:only-child::after {width: 0;}#sk-container-id-18 div.sk-dashed-wrapped {border: 1px dashed gray;margin: 0 0.4em 0.5em 0.4em;box-sizing: border-box;padding-bottom: 0.4em;background-color: white;}#sk-container-id-18 div.sk-label label {font-family: monospace;font-weight: bold;display: inline-block;line-height: 1.2em;}#sk-container-id-18 div.sk-label-container {text-align: center;}#sk-container-id-18 div.sk-container {/* jupyter's `normalize.less` sets `[hidden] { display: none; }` but bootstrap.min.css set `[hidden] { display: none !important; }` so we also need the `!important` here to be able to override the default hidden behavior on the sphinx rendered scikit-learn.org. See: https://github.com/scikit-learn/scikit-learn/issues/21755 */display: inline-block !important;position: relative;}#sk-container-id-18 div.sk-text-repr-fallback {display: none;}</style><div id=\"sk-container-id-18\" class=\"sk-top-container\"><div class=\"sk-text-repr-fallback\"><pre>RandomizedSearchCV(estimator=XGBClassifier(base_score=None, booster=None,\n",
       "                                           callbacks=None,\n",
       "                                           colsample_bylevel=None,\n",
       "                                           colsample_bynode=None,\n",
       "                                           colsample_bytree=None,\n",
       "                                           early_stopping_rounds=None,\n",
       "                                           enable_categorical=False,\n",
       "                                           eval_metric=None, gamma=None,\n",
       "                                           gpu_id=None, grow_policy=None,\n",
       "                                           importance_type=None,\n",
       "                                           interaction_constraints=None,\n",
       "                                           learning_rate=None, max_bin=None,\n",
       "                                           max_c...\n",
       "                                           max_delta_step=None, max_depth=None,\n",
       "                                           max_leaves=None,\n",
       "                                           min_child_weight=None, missing=nan,\n",
       "                                           monotone_constraints=None,\n",
       "                                           n_estimators=100, n_jobs=None,\n",
       "                                           num_parallel_tree=None,\n",
       "                                           predictor=None, random_state=None,\n",
       "                                           reg_alpha=None, reg_lambda=None, ...),\n",
       "                   param_distributions={&#x27;learning_rate&#x27;: [1, 0.5, 0.1, 0.01],\n",
       "                                        &#x27;max_depth&#x27;: [3, 5, 10, 20],\n",
       "                                        &#x27;n_estimators&#x27;: [10, 50, 100, 200]},\n",
       "                   verbose=3)</pre><b>In a Jupyter environment, please rerun this cell to show the HTML representation or trust the notebook. <br />On GitHub, the HTML representation is unable to render, please try loading this page with nbviewer.org.</b></div><div class=\"sk-container\" hidden><div class=\"sk-item sk-dashed-wrapped\"><div class=\"sk-label-container\"><div class=\"sk-label sk-toggleable\"><input class=\"sk-toggleable__control sk-hidden--visually\" id=\"sk-estimator-id-20\" type=\"checkbox\" ><label for=\"sk-estimator-id-20\" class=\"sk-toggleable__label sk-toggleable__label-arrow\">RandomizedSearchCV</label><div class=\"sk-toggleable__content\"><pre>RandomizedSearchCV(estimator=XGBClassifier(base_score=None, booster=None,\n",
       "                                           callbacks=None,\n",
       "                                           colsample_bylevel=None,\n",
       "                                           colsample_bynode=None,\n",
       "                                           colsample_bytree=None,\n",
       "                                           early_stopping_rounds=None,\n",
       "                                           enable_categorical=False,\n",
       "                                           eval_metric=None, gamma=None,\n",
       "                                           gpu_id=None, grow_policy=None,\n",
       "                                           importance_type=None,\n",
       "                                           interaction_constraints=None,\n",
       "                                           learning_rate=None, max_bin=None,\n",
       "                                           max_c...\n",
       "                                           max_delta_step=None, max_depth=None,\n",
       "                                           max_leaves=None,\n",
       "                                           min_child_weight=None, missing=nan,\n",
       "                                           monotone_constraints=None,\n",
       "                                           n_estimators=100, n_jobs=None,\n",
       "                                           num_parallel_tree=None,\n",
       "                                           predictor=None, random_state=None,\n",
       "                                           reg_alpha=None, reg_lambda=None, ...),\n",
       "                   param_distributions={&#x27;learning_rate&#x27;: [1, 0.5, 0.1, 0.01],\n",
       "                                        &#x27;max_depth&#x27;: [3, 5, 10, 20],\n",
       "                                        &#x27;n_estimators&#x27;: [10, 50, 100, 200]},\n",
       "                   verbose=3)</pre></div></div></div><div class=\"sk-parallel\"><div class=\"sk-parallel-item\"><div class=\"sk-item\"><div class=\"sk-label-container\"><div class=\"sk-label sk-toggleable\"><input class=\"sk-toggleable__control sk-hidden--visually\" id=\"sk-estimator-id-21\" type=\"checkbox\" ><label for=\"sk-estimator-id-21\" class=\"sk-toggleable__label sk-toggleable__label-arrow\">estimator: XGBClassifier</label><div class=\"sk-toggleable__content\"><pre>XGBClassifier(base_score=None, booster=None, callbacks=None,\n",
       "              colsample_bylevel=None, colsample_bynode=None,\n",
       "              colsample_bytree=None, early_stopping_rounds=None,\n",
       "              enable_categorical=False, eval_metric=None, gamma=None,\n",
       "              gpu_id=None, grow_policy=None, importance_type=None,\n",
       "              interaction_constraints=None, learning_rate=None, max_bin=None,\n",
       "              max_cat_to_onehot=None, max_delta_step=None, max_depth=None,\n",
       "              max_leaves=None, min_child_weight=None, missing=nan,\n",
       "              monotone_constraints=None, n_estimators=100, n_jobs=None,\n",
       "              num_parallel_tree=None, predictor=None, random_state=None,\n",
       "              reg_alpha=None, reg_lambda=None, ...)</pre></div></div></div><div class=\"sk-serial\"><div class=\"sk-item\"><div class=\"sk-estimator sk-toggleable\"><input class=\"sk-toggleable__control sk-hidden--visually\" id=\"sk-estimator-id-22\" type=\"checkbox\" ><label for=\"sk-estimator-id-22\" class=\"sk-toggleable__label sk-toggleable__label-arrow\">XGBClassifier</label><div class=\"sk-toggleable__content\"><pre>XGBClassifier(base_score=None, booster=None, callbacks=None,\n",
       "              colsample_bylevel=None, colsample_bynode=None,\n",
       "              colsample_bytree=None, early_stopping_rounds=None,\n",
       "              enable_categorical=False, eval_metric=None, gamma=None,\n",
       "              gpu_id=None, grow_policy=None, importance_type=None,\n",
       "              interaction_constraints=None, learning_rate=None, max_bin=None,\n",
       "              max_cat_to_onehot=None, max_delta_step=None, max_depth=None,\n",
       "              max_leaves=None, min_child_weight=None, missing=nan,\n",
       "              monotone_constraints=None, n_estimators=100, n_jobs=None,\n",
       "              num_parallel_tree=None, predictor=None, random_state=None,\n",
       "              reg_alpha=None, reg_lambda=None, ...)</pre></div></div></div></div></div></div></div></div></div></div>"
      ],
      "text/plain": [
       "RandomizedSearchCV(estimator=XGBClassifier(base_score=None, booster=None,\n",
       "                                           callbacks=None,\n",
       "                                           colsample_bylevel=None,\n",
       "                                           colsample_bynode=None,\n",
       "                                           colsample_bytree=None,\n",
       "                                           early_stopping_rounds=None,\n",
       "                                           enable_categorical=False,\n",
       "                                           eval_metric=None, gamma=None,\n",
       "                                           gpu_id=None, grow_policy=None,\n",
       "                                           importance_type=None,\n",
       "                                           interaction_constraints=None,\n",
       "                                           learning_rate=None, max_bin=None,\n",
       "                                           max_c...\n",
       "                                           max_delta_step=None, max_depth=None,\n",
       "                                           max_leaves=None,\n",
       "                                           min_child_weight=None, missing=nan,\n",
       "                                           monotone_constraints=None,\n",
       "                                           n_estimators=100, n_jobs=None,\n",
       "                                           num_parallel_tree=None,\n",
       "                                           predictor=None, random_state=None,\n",
       "                                           reg_alpha=None, reg_lambda=None, ...),\n",
       "                   param_distributions={'learning_rate': [1, 0.5, 0.1, 0.01],\n",
       "                                        'max_depth': [3, 5, 10, 20],\n",
       "                                        'n_estimators': [10, 50, 100, 200]},\n",
       "                   verbose=3)"
      ]
     },
     "execution_count": 233,
     "metadata": {},
     "output_type": "execute_result"
    }
   ],
   "source": [
    "grid.fit(x_train, y_train)"
   ]
  },
  {
   "cell_type": "code",
   "execution_count": 234,
   "id": "f485c468",
   "metadata": {},
   "outputs": [
    {
     "data": {
      "text/plain": [
       "{'n_estimators': 50, 'max_depth': 3, 'learning_rate': 0.1}"
      ]
     },
     "execution_count": 234,
     "metadata": {},
     "output_type": "execute_result"
    }
   ],
   "source": [
    "grid.best_params_"
   ]
  },
  {
   "cell_type": "code",
   "execution_count": 332,
   "id": "152157ea",
   "metadata": {},
   "outputs": [],
   "source": [
    "xg_randomsearchCV = XGBClassifier(n_estimators= 50, max_depth= 3, learning_rate= 0.1)\n",
    "xg_randomsearchCV = xg_randomsearchCV.fit(x_train, y_train)"
   ]
  },
  {
   "cell_type": "code",
   "execution_count": 241,
   "id": "b1e066d6",
   "metadata": {},
   "outputs": [],
   "source": [
    "y_pred_xg_randomsearchCV = xg_randomsearchCV.predict(x_test)"
   ]
  },
  {
   "cell_type": "code",
   "execution_count": 244,
   "id": "bc1bceb6",
   "metadata": {},
   "outputs": [
    {
     "name": "stdout",
     "output_type": "stream",
     "text": [
      "testing accuracy is :  79.81744421906694\n",
      "[[639  80]\n",
      " [119 148]]\n",
      "Akurasi dari Random Forest adalah: 79.82\n",
      "Recall dari Random Forest adalah: 55.430711610486895\n",
      "Precision dari Random Forest adalah: 64.91228070175438\n",
      "F1-Score: 59.79797979797981\n"
     ]
    }
   ],
   "source": [
    "# checking accuracy of test dataset\n",
    "print(\"testing accuracy is : \", xg_randomsearchCV.score(x_test, y_test)*100)\n",
    "\n",
    "print(confusion_matrix(y_test, y_pred_xg_randomsearchCV))\n",
    "print(\"Akurasi dari Random Forest adalah: %.2f\" % (accuracy_score(y_test, y_pred_xg_randomsearchCV)*100) )\n",
    "print(\"Recall dari Random Forest adalah:\",recall_score(y_test, y_pred_xg_randomsearchCV)*100)\n",
    "print(\"Precision dari Random Forest adalah:\",precision_score(y_test, y_pred_xg_randomsearchCV)*100)\n",
    "print('F1-Score: {}'.format(f1_score(y_test, y_pred_xg_randomsearchCV)*100))"
   ]
  },
  {
   "cell_type": "code",
   "execution_count": 343,
   "id": "75e00fe1",
   "metadata": {},
   "outputs": [
    {
     "data": {
      "image/png": "[encoded data removed]",
      "text/plain": [
       "<Figure size 432x288 with 1 Axes>"
      ]
     },
     "metadata": {
      "needs_background": "light"
     },
     "output_type": "display_data"
    }
   ],
   "source": [
    "# fpr means false-positive-rate\n",
    "# tpr means true-positive-rate\n",
    "fpr, tpr, _ = metrics.roc_curve(y_test, y_pred_xg_randomsearchCV)\n",
    "\n",
    "auc_score = metrics.auc(fpr, tpr)\n",
    "\n",
    "# clear current figure\n",
    "plt.clf()\n",
    "\n",
    "plt.title('ROC Curve')\n",
    "plt.plot(fpr, tpr, label='AUC = {:.2f}'.format(auc_score))\n",
    "\n",
    "# it's helpful to add a diagonal to indicate where chance \n",
    "# scores lie (i.e. just flipping a coin)\n",
    "plt.plot([0,1],[0,1],'r--')\n",
    "\n",
    "plt.xlim([-0.1,1.1])\n",
    "plt.ylim([-0.1,1.1])\n",
    "plt.ylabel('True Positive Rate')\n",
    "plt.xlabel('False Positive Rate')\n",
    "\n",
    "plt.legend(loc='lower right')\n",
    "plt.show()\n"
   ]
  },
  {
   "cell_type": "markdown",
   "id": "3097cb23",
   "metadata": {},
   "source": [
    "TPR > FPR"
   ]
  },
  {
   "cell_type": "code",
   "execution_count": 367,
   "id": "a0006b56",
   "metadata": {},
   "outputs": [
    {
     "ename": "ImportError",
     "evalue": "cannot import name 'xgboost' from 'sklearn.tree' (C:\\ProgramData\\Anaconda3\\lib\\site-packages\\sklearn\\tree\\__init__.py)",
     "output_type": "error",
     "traceback": [
      "\u001b[1;31m---------------------------------------------------------------------------\u001b[0m",
      "\u001b[1;31mImportError\u001b[0m                               Traceback (most recent call last)",
      "\u001b[1;32m~\\AppData\\Local\\Temp/ipykernel_17640/3479275062.py\u001b[0m in \u001b[0;36m<module>\u001b[1;34m\u001b[0m\n\u001b[1;32m----> 1\u001b[1;33m \u001b[1;32mfrom\u001b[0m \u001b[0msklearn\u001b[0m\u001b[1;33m.\u001b[0m\u001b[0mtree\u001b[0m \u001b[1;32mimport\u001b[0m \u001b[0mxgboost\u001b[0m\u001b[1;33m\u001b[0m\u001b[1;33m\u001b[0m\u001b[0m\n\u001b[0m",
      "\u001b[1;31mImportError\u001b[0m: cannot import name 'xgboost' from 'sklearn.tree' (C:\\ProgramData\\Anaconda3\\lib\\site-packages\\sklearn\\tree\\__init__.py)"
     ]
    }
   ],
   "source": [
    "from sklearn.tree import xgboost"
   ]
  },
  {
   "cell_type": "code",
   "execution_count": 370,
   "id": "376aa63a",
   "metadata": {},
   "outputs": [
    {
     "name": "stdout",
     "output_type": "stream",
     "text": [
      "Requirement already satisfied: xgboost in c:\\programdata\\anaconda3\\lib\\site-packages (1.6.1)\n",
      "Requirement already satisfied: scipy in c:\\programdata\\anaconda3\\lib\\site-packages (from xgboost) (1.7.1)\n",
      "Requirement already satisfied: numpy in c:\\programdata\\anaconda3\\lib\\site-packages (from xgboost) (1.20.3)\n"
     ]
    }
   ],
   "source": [
    "!pip install xgboost"
   ]
  },
  {
   "cell_type": "code",
   "execution_count": 368,
   "id": "36d7739f",
   "metadata": {},
   "outputs": [
    {
     "name": "stdout",
     "output_type": "stream",
     "text": [
      "Requirement already satisfied: xgboost in c:\\programdata\\anaconda3\\lib\\site-packages (1.6.1)\n",
      "Requirement already satisfied: numpy in c:\\programdata\\anaconda3\\lib\\site-packages (from xgboost) (1.20.3)\n",
      "Requirement already satisfied: scipy in c:\\programdata\\anaconda3\\lib\\site-packages (from xgboost) (1.7.1)\n"
     ]
    }
   ],
   "source": [
    "!pip install xgboost"
   ]
  },
  {
   "cell_type": "code",
   "execution_count": 245,
   "id": "7ec6feaa",
   "metadata": {},
   "outputs": [
    {
     "data": {
      "image/png": "[encoded data removed]",
      "text/plain": [
       "<Figure size 432x288 with 1 Axes>"
      ]
     },
     "metadata": {
      "needs_background": "light"
     },
     "output_type": "display_data"
    }
   ],
   "source": [
    "plt.bar(range(len(xg_randomsearchCV.feature_importances_)), xg_randomsearchCV.feature_importances_)\n",
    "plt.show()"
   ]
  },
  {
   "cell_type": "code",
   "execution_count": 185,
   "id": "f6e77dc6",
   "metadata": {},
   "outputs": [
    {
     "data": {
      "text/plain": [
       "Index(['Dependents', 'tenure', 'InternetService', 'OnlineSecurity',\n",
       "       'OnlineBackup', 'DeviceProtection', 'TechSupport', 'Contract',\n",
       "       'PaperlessBilling', 'MonthlyCharges'],\n",
       "      dtype='object')"
      ]
     },
     "execution_count": 185,
     "metadata": {},
     "output_type": "execute_result"
    }
   ],
   "source": [
    "x_train.columns"
   ]
  },
  {
   "cell_type": "code",
   "execution_count": 261,
   "id": "d3560980",
   "metadata": {},
   "outputs": [
    {
     "data": {
      "text/plain": [
       "['Dependents',\n",
       " 'tenure',\n",
       " 'InternetService',\n",
       " 'OnlineSecurity',\n",
       " 'OnlineBackup',\n",
       " 'DeviceProtection',\n",
       " 'TechSupport',\n",
       " 'Contract',\n",
       " 'PaperlessBilling',\n",
       " 'MonthlyCharges']"
      ]
     },
     "execution_count": 261,
     "metadata": {},
     "output_type": "execute_result"
    }
   ],
   "source": [
    "xg_randomsearchCV.get_booster().feature_names"
   ]
  },
  {
   "cell_type": "markdown",
   "id": "64e16c54",
   "metadata": {},
   "source": [
    "accuracy lebih besar menggunakan teknik hyperparameter tuning darirandomsearch cv dari XFBClassifier"
   ]
  },
  {
   "cell_type": "code",
   "execution_count": null,
   "id": "44410848",
   "metadata": {},
   "outputs": [],
   "source": [
    "## Performing "
   ]
  },
  {
   "cell_type": "markdown",
   "id": "039b1484",
   "metadata": {},
   "source": [
    "### Model Benchmarking : K-Fold"
   ]
  },
  {
   "cell_type": "code",
   "execution_count": null,
   "id": "b179a499",
   "metadata": {},
   "outputs": [],
   "source": [
    "models = [logreg,knn,dt,rf,xgb,lgbm]\n",
    "score=[]\n",
    "rata=[]\n",
    "std=[]\n",
    "\n",
    "for i in models:\n",
    "    skfold=StratifiedKFold(n_splits=5)\n",
    "    estimator=Pipeline([\n",
    "        ('preprocess',transformer),\n",
    "        ('model',i)])\n",
    "    model_cv=cross_val_score(estimator,x_train,y_train,cv=skfold,scoring='roc_auc')\n",
    "    score.append(model_cv)\n",
    "    rata.append(model_cv.mean())\n",
    "    std.append(model_cv.std())\n",
    "    \n",
    "pd.DataFrame({'model':['Logistic Regression', 'KNN', 'Decision Tree', 'Random Forest', 'XGBoost', 'LightGBM'],'mean roc_auc':rata,'sdev':std}).set_index('model').sort_values(by='mean roc_auc',ascending=False)"
   ]
  },
  {
   "cell_type": "markdown",
   "id": "1beea513",
   "metadata": {},
   "source": [
    "# CONCLUSION"
   ]
  },
  {
   "cell_type": "markdown",
   "id": "e197c8bc",
   "metadata": {},
   "source": [
    "These are some of the quick insights from this exercise:\n",
    "\n",
    "1. Electronic check medium are the highest churners\n",
    "2. Contract Type - Monthly customers are more likely to churn because of no contract terms, as they are free to go customers.\n",
    "3. No Online security, No Tech Support category are high churners\n",
    "4. Non senior Citizens are high churners\n",
    "\n",
    "Note: There could be many more such insights, so take this as an assignment and try to get more insights :)"
   ]
  },
  {
   "cell_type": "markdown",
   "id": "e512a99f",
   "metadata": {},
   "source": [
    "## *Menggunakan Data Training SMOTE*"
   ]
  },
  {
   "cell_type": "code",
   "execution_count": 148,
   "id": "a850dfac",
   "metadata": {},
   "outputs": [
    {
     "data": {
      "text/html": [
       "<style>#sk-container-id-11 {color: black;background-color: white;}#sk-container-id-11 pre{padding: 0;}#sk-container-id-11 div.sk-toggleable {background-color: white;}#sk-container-id-11 label.sk-toggleable__label {cursor: pointer;display: block;width: 100%;margin-bottom: 0;padding: 0.3em;box-sizing: border-box;text-align: center;}#sk-container-id-11 label.sk-toggleable__label-arrow:before {content: \"▸\";float: left;margin-right: 0.25em;color: #696969;}#sk-container-id-11 label.sk-toggleable__label-arrow:hover:before {color: black;}#sk-container-id-11 div.sk-estimator:hover label.sk-toggleable__label-arrow:before {color: black;}#sk-container-id-11 div.sk-toggleable__content {max-height: 0;max-width: 0;overflow: hidden;text-align: left;background-color: #f0f8ff;}#sk-container-id-11 div.sk-toggleable__content pre {margin: 0.2em;color: black;border-radius: 0.25em;background-color: #f0f8ff;}#sk-container-id-11 input.sk-toggleable__control:checked~div.sk-toggleable__content {max-height: 200px;max-width: 100%;overflow: auto;}#sk-container-id-11 input.sk-toggleable__control:checked~label.sk-toggleable__label-arrow:before {content: \"▾\";}#sk-container-id-11 div.sk-estimator input.sk-toggleable__control:checked~label.sk-toggleable__label {background-color: #d4ebff;}#sk-container-id-11 div.sk-label input.sk-toggleable__control:checked~label.sk-toggleable__label {background-color: #d4ebff;}#sk-container-id-11 input.sk-hidden--visually {border: 0;clip: rect(1px 1px 1px 1px);clip: rect(1px, 1px, 1px, 1px);height: 1px;margin: -1px;overflow: hidden;padding: 0;position: absolute;width: 1px;}#sk-container-id-11 div.sk-estimator {font-family: monospace;background-color: #f0f8ff;border: 1px dotted black;border-radius: 0.25em;box-sizing: border-box;margin-bottom: 0.5em;}#sk-container-id-11 div.sk-estimator:hover {background-color: #d4ebff;}#sk-container-id-11 div.sk-parallel-item::after {content: \"\";width: 100%;border-bottom: 1px solid gray;flex-grow: 1;}#sk-container-id-11 div.sk-label:hover label.sk-toggleable__label {background-color: #d4ebff;}#sk-container-id-11 div.sk-serial::before {content: \"\";position: absolute;border-left: 1px solid gray;box-sizing: border-box;top: 0;bottom: 0;left: 50%;z-index: 0;}#sk-container-id-11 div.sk-serial {display: flex;flex-direction: column;align-items: center;background-color: white;padding-right: 0.2em;padding-left: 0.2em;position: relative;}#sk-container-id-11 div.sk-item {position: relative;z-index: 1;}#sk-container-id-11 div.sk-parallel {display: flex;align-items: stretch;justify-content: center;background-color: white;position: relative;}#sk-container-id-11 div.sk-item::before, #sk-container-id-11 div.sk-parallel-item::before {content: \"\";position: absolute;border-left: 1px solid gray;box-sizing: border-box;top: 0;bottom: 0;left: 50%;z-index: -1;}#sk-container-id-11 div.sk-parallel-item {display: flex;flex-direction: column;z-index: 1;position: relative;background-color: white;}#sk-container-id-11 div.sk-parallel-item:first-child::after {align-self: flex-end;width: 50%;}#sk-container-id-11 div.sk-parallel-item:last-child::after {align-self: flex-start;width: 50%;}#sk-container-id-11 div.sk-parallel-item:only-child::after {width: 0;}#sk-container-id-11 div.sk-dashed-wrapped {border: 1px dashed gray;margin: 0 0.4em 0.5em 0.4em;box-sizing: border-box;padding-bottom: 0.4em;background-color: white;}#sk-container-id-11 div.sk-label label {font-family: monospace;font-weight: bold;display: inline-block;line-height: 1.2em;}#sk-container-id-11 div.sk-label-container {text-align: center;}#sk-container-id-11 div.sk-container {/* jupyter's `normalize.less` sets `[hidden] { display: none; }` but bootstrap.min.css set `[hidden] { display: none !important; }` so we also need the `!important` here to be able to override the default hidden behavior on the sphinx rendered scikit-learn.org. See: https://github.com/scikit-learn/scikit-learn/issues/21755 */display: inline-block !important;position: relative;}#sk-container-id-11 div.sk-text-repr-fallback {display: none;}</style><div id=\"sk-container-id-11\" class=\"sk-top-container\"><div class=\"sk-text-repr-fallback\"><pre>XGBClassifier(base_score=0.5, booster=&#x27;gbtree&#x27;, callbacks=None,\n",
       "              colsample_bylevel=1, colsample_bynode=1, colsample_bytree=1,\n",
       "              early_stopping_rounds=None, enable_categorical=False,\n",
       "              eval_metric=None, gamma=0, gpu_id=-1, grow_policy=&#x27;depthwise&#x27;,\n",
       "              importance_type=None, interaction_constraints=&#x27;&#x27;,\n",
       "              learning_rate=0.300000012, max_bin=256, max_cat_to_onehot=4,\n",
       "              max_delta_step=0, max_depth=6, max_leaves=0, min_child_weight=1,\n",
       "              missing=nan, monotone_constraints=&#x27;()&#x27;, n_estimators=100,\n",
       "              n_jobs=0, num_parallel_tree=1, predictor=&#x27;auto&#x27;, random_state=0,\n",
       "              reg_alpha=0, reg_lambda=1, ...)</pre><b>In a Jupyter environment, please rerun this cell to show the HTML representation or trust the notebook. <br />On GitHub, the HTML representation is unable to render, please try loading this page with nbviewer.org.</b></div><div class=\"sk-container\" hidden><div class=\"sk-item\"><div class=\"sk-estimator sk-toggleable\"><input class=\"sk-toggleable__control sk-hidden--visually\" id=\"sk-estimator-id-11\" type=\"checkbox\" checked><label for=\"sk-estimator-id-11\" class=\"sk-toggleable__label sk-toggleable__label-arrow\">XGBClassifier</label><div class=\"sk-toggleable__content\"><pre>XGBClassifier(base_score=0.5, booster=&#x27;gbtree&#x27;, callbacks=None,\n",
       "              colsample_bylevel=1, colsample_bynode=1, colsample_bytree=1,\n",
       "              early_stopping_rounds=None, enable_categorical=False,\n",
       "              eval_metric=None, gamma=0, gpu_id=-1, grow_policy=&#x27;depthwise&#x27;,\n",
       "              importance_type=None, interaction_constraints=&#x27;&#x27;,\n",
       "              learning_rate=0.300000012, max_bin=256, max_cat_to_onehot=4,\n",
       "              max_delta_step=0, max_depth=6, max_leaves=0, min_child_weight=1,\n",
       "              missing=nan, monotone_constraints=&#x27;()&#x27;, n_estimators=100,\n",
       "              n_jobs=0, num_parallel_tree=1, predictor=&#x27;auto&#x27;, random_state=0,\n",
       "              reg_alpha=0, reg_lambda=1, ...)</pre></div></div></div></div></div>"
      ],
      "text/plain": [
       "XGBClassifier(base_score=0.5, booster='gbtree', callbacks=None,\n",
       "              colsample_bylevel=1, colsample_bynode=1, colsample_bytree=1,\n",
       "              early_stopping_rounds=None, enable_categorical=False,\n",
       "              eval_metric=None, gamma=0, gpu_id=-1, grow_policy='depthwise',\n",
       "              importance_type=None, interaction_constraints='',\n",
       "              learning_rate=0.300000012, max_bin=256, max_cat_to_onehot=4,\n",
       "              max_delta_step=0, max_depth=6, max_leaves=0, min_child_weight=1,\n",
       "              missing=nan, monotone_constraints='()', n_estimators=100,\n",
       "              n_jobs=0, num_parallel_tree=1, predictor='auto', random_state=0,\n",
       "              reg_alpha=0, reg_lambda=1, ...)"
      ]
     },
     "execution_count": 148,
     "metadata": {},
     "output_type": "execute_result"
    }
   ],
   "source": [
    "# XGBoost clasifier menggunakan SMOTE\n",
    "from xgboost import XGBClassifier\n",
    "xg_smote = XGBClassifier(objective='binary:logistic')\n",
    "xg_smote.fit(x_resample, y_resample)"
   ]
  },
  {
   "cell_type": "code",
   "execution_count": 158,
   "id": "58e6c6b1",
   "metadata": {},
   "outputs": [
    {
     "name": "stdout",
     "output_type": "stream",
     "text": [
      "testing accuracy is :  76.67342799188641\n"
     ]
    }
   ],
   "source": [
    "# checking accuracy of test dataset\n",
    "print(\"testing accuracy is : \", xg_smote.score(x_test, y_test)*100)\n",
    "predictionxg_somte = xg.predict(x_test)"
   ]
  },
  {
   "cell_type": "code",
   "execution_count": 159,
   "id": "e86b3269",
   "metadata": {},
   "outputs": [
    {
     "name": "stdout",
     "output_type": "stream",
     "text": [
      "Recall: 0.5393258426966292\n",
      "Precision: 0.62882096069869\n",
      "F1-Score: 0.5806451612903226\n"
     ]
    }
   ],
   "source": [
    "from sklearn.metrics import f1_score, precision_score, recall_score #pip install sklearn\n",
    "print('Recall: {}'.format(recall_score(y_test, predictionxg_somte)))\n",
    "print('Precision: {}'.format(precision_score(y_test, predictionxg_somte)))\n",
    "print('F1-Score: {}'.format(f1_score(y_test, predictionxg_somte)))"
   ]
  },
  {
   "cell_type": "code",
   "execution_count": 144,
   "id": "7f3a2920",
   "metadata": {},
   "outputs": [],
   "source": [
    "grid = RandomizedSearchCV(XGBClassifier(objective='binary:logistic'), param_grid, verbose=3)"
   ]
  },
  {
   "cell_type": "code",
   "execution_count": null,
   "id": "888178fb",
   "metadata": {},
   "outputs": [],
   "source": [
    "grid.fit(x_train, y_train)"
   ]
  },
  {
   "cell_type": "code",
   "execution_count": null,
   "id": "a24de3e2",
   "metadata": {},
   "outputs": [],
   "source": []
  },
  {
   "cell_type": "markdown",
   "id": "a55dd562",
   "metadata": {},
   "source": [
    "## Random Forest Classification Oversample 55:45"
   ]
  },
  {
   "cell_type": "code",
   "execution_count": 329,
   "id": "b279e04f",
   "metadata": {},
   "outputs": [
    {
     "name": "stdout",
     "output_type": "stream",
     "text": [
      "[[597 122]\n",
      " [114 153]]\n",
      "Akurasi dari Random Forest adalah: 76.06\n",
      "Recall dari Random Forest adalah: 57.30337078651685\n",
      "Precision dari Random Forest adalah: 55.63636363636364\n"
     ]
    }
   ],
   "source": [
    "randomforest_oversample = rf.fit(x_resample, y_resample)\n",
    "prediction = rf.predict(x_test)\n",
    "print(confusion_matrix(y_test, prediction))\n",
    "print(\"Akurasi dari Random Forest adalah: %.2f\" % (accuracy_score(y_test, prediction)*100) )\n",
    "print(\"Recall dari Random Forest adalah:\",recall_score(y_test, prediction)*100)\n",
    "print(\"Precision dari Random Forest adalah:\",precision_score(y_test, prediction)*100)"
   ]
  },
  {
   "cell_type": "code",
   "execution_count": 125,
   "id": "bd6369ac",
   "metadata": {},
   "outputs": [
    {
     "name": "stdout",
     "output_type": "stream",
     "text": [
      "Recall: 0.704119850187266\n",
      "Precision: 0.5513196480938416\n",
      "F1-Score: 0.618421052631579\n"
     ]
    }
   ],
   "source": [
    "from sklearn.metrics import f1_score, precision_score, recall_score #pip install sklearn\n",
    "print('Recall: {}'.format(recall_score(y_test, prediction)))\n",
    "print('Precision: {}'.format(precision_score(y_test, prediction)))\n",
    "print('F1-Score: {}'.format(f1_score(y_test, prediction)))"
   ]
  },
  {
   "cell_type": "markdown",
   "id": "4c227860",
   "metadata": {},
   "source": [
    "jadi bener model naik 76.27 ke 76.47 jika tenure ggrup nya tanpa di gruping menjadi 6 group\n",
    "jadi kami better membiarkan tenure dengan range data asli dan di scaling menggunakan min_max() agar data nya standar tidak ada di luar range yang jauh me efesienkan model agar tidak terlalu complex"
   ]
  },
  {
   "cell_type": "markdown",
   "id": "a7104c47",
   "metadata": {},
   "source": [
    "---------------------------------------------------"
   ]
  },
  {
   "cell_type": "markdown",
   "id": "b6653819",
   "metadata": {},
   "source": [
    "## Random Forest Classification Oversample 60:40"
   ]
  },
  {
   "cell_type": "code",
   "execution_count": 128,
   "id": "42578f84",
   "metadata": {},
   "outputs": [
    {
     "name": "stdout",
     "output_type": "stream",
     "text": [
      "[[583 136]\n",
      " [ 85 182]]\n",
      "Akurasi dari Random Forest adalah: 77.59\n",
      "Recall dari Random Forest adalah: 68.16479400749064\n",
      "Precision dari Random Forest adalah: 57.23270440251572\n"
     ]
    }
   ],
   "source": [
    "rf.fit(x_resample_2, y_resample_2)\n",
    "\n",
    "prediction = rf.predict(x_test)\n",
    "print(confusion_matrix(y_test, prediction))\n",
    "\n",
    "print(\"Akurasi dari Random Forest adalah: %.2f\" % (accuracy_score(y_test, prediction)*100) )\n",
    "\n",
    "print(\"Recall dari Random Forest adalah:\",recall_score(y_test, prediction)*100)\n",
    "\n",
    "print(\"Precision dari Random Forest adalah:\",precision_score(y_test, prediction)*100)"
   ]
  },
  {
   "cell_type": "code",
   "execution_count": 129,
   "id": "038b479a",
   "metadata": {},
   "outputs": [
    {
     "name": "stdout",
     "output_type": "stream",
     "text": [
      "Recall: 0.6816479400749064\n",
      "Precision: 0.5723270440251572\n",
      "F1-Score: 0.6222222222222222\n"
     ]
    }
   ],
   "source": [
    "from sklearn.metrics import f1_score, precision_score, recall_score #pip install sklearn\n",
    "print('Recall: {}'.format(recall_score(y_test, prediction)))\n",
    "print('Precision: {}'.format(precision_score(y_test, prediction)))\n",
    "print('F1-Score: {}'.format(f1_score(y_test, prediction)))"
   ]
  },
  {
   "cell_type": "markdown",
   "id": "37e71039",
   "metadata": {},
   "source": [
    "---------------------------------------------------"
   ]
  },
  {
   "cell_type": "markdown",
   "id": "ecc3d97d",
   "metadata": {},
   "source": [
    "# *Testing Model* kfold"
   ]
  },
  {
   "cell_type": "code",
   "execution_count": 297,
   "id": "5c190947",
   "metadata": {},
   "outputs": [],
   "source": [
    "data['DeviceProtection'] = data['DeviceProtection'].replace(['No internet service'],'No')\n",
    "data['OnlineBackup'] = data['OnlineBackup'].replace(['No internet service'],'No')\n",
    "data['OnlineSecurity'] = data['OnlineSecurity'].replace(['No internet service'],'No')\n",
    "data['TechSupport'] = data['TechSupport'].replace(['No internet service'],'No')"
   ]
  },
  {
   "cell_type": "code",
   "execution_count": 288,
   "id": "bb9fd688",
   "metadata": {},
   "outputs": [],
   "source": [
    "transformer = ColumnTransformer([\n",
    "    ('onehot', OneHotEncoder(drop='first'), ['Dependents','OnlineSecurity', 'OnlineBackup', 'InternetService', 'DeviceProtection', 'TechSupport', 'Contract','PaperlessBilling']),\n",
    "], remainder='passthrough')"
   ]
  },
  {
   "cell_type": "code",
   "execution_count": 300,
   "id": "84c50e31",
   "metadata": {},
   "outputs": [],
   "source": [
    "x = data.drop(columns=['Churn'])\n",
    "y = data['Churn']"
   ]
  },
  {
   "cell_type": "code",
   "execution_count": 301,
   "id": "53f6fcef",
   "metadata": {},
   "outputs": [],
   "source": [
    "x_train,x_test,y_train,y_test=train_test_split(x,y,stratify=y,test_size=0.2,random_state=2021)"
   ]
  },
  {
   "cell_type": "code",
   "execution_count": 302,
   "id": "a58199ca",
   "metadata": {},
   "outputs": [
    {
     "data": {
      "text/html": [
       "<div>\n",
       "<style scoped>\n",
       "    .dataframe tbody tr th:only-of-type {\n",
       "        vertical-align: middle;\n",
       "    }\n",
       "\n",
       "    .dataframe tbody tr th {\n",
       "        vertical-align: top;\n",
       "    }\n",
       "\n",
       "    .dataframe thead th {\n",
       "        text-align: right;\n",
       "    }\n",
       "</style>\n",
       "<table border=\"1\" class=\"dataframe\">\n",
       "  <thead>\n",
       "    <tr style=\"text-align: right;\">\n",
       "      <th></th>\n",
       "      <th>Dependents</th>\n",
       "      <th>tenure</th>\n",
       "      <th>OnlineSecurity</th>\n",
       "      <th>OnlineBackup</th>\n",
       "      <th>InternetService</th>\n",
       "      <th>DeviceProtection</th>\n",
       "      <th>TechSupport</th>\n",
       "      <th>Contract</th>\n",
       "      <th>PaperlessBilling</th>\n",
       "      <th>MonthlyCharges</th>\n",
       "      <th>Churn</th>\n",
       "    </tr>\n",
       "  </thead>\n",
       "  <tbody>\n",
       "    <tr>\n",
       "      <th>0</th>\n",
       "      <td>Yes</td>\n",
       "      <td>9</td>\n",
       "      <td>No</td>\n",
       "      <td>No</td>\n",
       "      <td>DSL</td>\n",
       "      <td>Yes</td>\n",
       "      <td>Yes</td>\n",
       "      <td>Month-to-month</td>\n",
       "      <td>Yes</td>\n",
       "      <td>72.90</td>\n",
       "      <td>Yes</td>\n",
       "    </tr>\n",
       "    <tr>\n",
       "      <th>1</th>\n",
       "      <td>No</td>\n",
       "      <td>14</td>\n",
       "      <td>No</td>\n",
       "      <td>Yes</td>\n",
       "      <td>Fiber optic</td>\n",
       "      <td>Yes</td>\n",
       "      <td>No</td>\n",
       "      <td>Month-to-month</td>\n",
       "      <td>Yes</td>\n",
       "      <td>82.65</td>\n",
       "      <td>No</td>\n",
       "    </tr>\n",
       "    <tr>\n",
       "      <th>2</th>\n",
       "      <td>No</td>\n",
       "      <td>64</td>\n",
       "      <td>Yes</td>\n",
       "      <td>No</td>\n",
       "      <td>DSL</td>\n",
       "      <td>Yes</td>\n",
       "      <td>Yes</td>\n",
       "      <td>Two year</td>\n",
       "      <td>No</td>\n",
       "      <td>47.85</td>\n",
       "      <td>Yes</td>\n",
       "    </tr>\n",
       "    <tr>\n",
       "      <th>3</th>\n",
       "      <td>No</td>\n",
       "      <td>72</td>\n",
       "      <td>Yes</td>\n",
       "      <td>Yes</td>\n",
       "      <td>DSL</td>\n",
       "      <td>Yes</td>\n",
       "      <td>Yes</td>\n",
       "      <td>Two year</td>\n",
       "      <td>No</td>\n",
       "      <td>69.65</td>\n",
       "      <td>No</td>\n",
       "    </tr>\n",
       "    <tr>\n",
       "      <th>4</th>\n",
       "      <td>No</td>\n",
       "      <td>3</td>\n",
       "      <td>No</td>\n",
       "      <td>No</td>\n",
       "      <td>No</td>\n",
       "      <td>No</td>\n",
       "      <td>No</td>\n",
       "      <td>Month-to-month</td>\n",
       "      <td>Yes</td>\n",
       "      <td>23.60</td>\n",
       "      <td>No</td>\n",
       "    </tr>\n",
       "    <tr>\n",
       "      <th>...</th>\n",
       "      <td>...</td>\n",
       "      <td>...</td>\n",
       "      <td>...</td>\n",
       "      <td>...</td>\n",
       "      <td>...</td>\n",
       "      <td>...</td>\n",
       "      <td>...</td>\n",
       "      <td>...</td>\n",
       "      <td>...</td>\n",
       "      <td>...</td>\n",
       "      <td>...</td>\n",
       "    </tr>\n",
       "    <tr>\n",
       "      <th>4925</th>\n",
       "      <td>No</td>\n",
       "      <td>15</td>\n",
       "      <td>No</td>\n",
       "      <td>No</td>\n",
       "      <td>Fiber optic</td>\n",
       "      <td>Yes</td>\n",
       "      <td>Yes</td>\n",
       "      <td>Month-to-month</td>\n",
       "      <td>Yes</td>\n",
       "      <td>103.45</td>\n",
       "      <td>No</td>\n",
       "    </tr>\n",
       "    <tr>\n",
       "      <th>4926</th>\n",
       "      <td>Yes</td>\n",
       "      <td>10</td>\n",
       "      <td>No</td>\n",
       "      <td>No</td>\n",
       "      <td>Fiber optic</td>\n",
       "      <td>Yes</td>\n",
       "      <td>Yes</td>\n",
       "      <td>Month-to-month</td>\n",
       "      <td>Yes</td>\n",
       "      <td>91.10</td>\n",
       "      <td>No</td>\n",
       "    </tr>\n",
       "    <tr>\n",
       "      <th>4927</th>\n",
       "      <td>No</td>\n",
       "      <td>58</td>\n",
       "      <td>No</td>\n",
       "      <td>No</td>\n",
       "      <td>No</td>\n",
       "      <td>No</td>\n",
       "      <td>No</td>\n",
       "      <td>Two year</td>\n",
       "      <td>No</td>\n",
       "      <td>20.75</td>\n",
       "      <td>No</td>\n",
       "    </tr>\n",
       "    <tr>\n",
       "      <th>4928</th>\n",
       "      <td>No</td>\n",
       "      <td>1</td>\n",
       "      <td>No</td>\n",
       "      <td>No</td>\n",
       "      <td>Fiber optic</td>\n",
       "      <td>No</td>\n",
       "      <td>No</td>\n",
       "      <td>Month-to-month</td>\n",
       "      <td>Yes</td>\n",
       "      <td>69.75</td>\n",
       "      <td>Yes</td>\n",
       "    </tr>\n",
       "    <tr>\n",
       "      <th>4929</th>\n",
       "      <td>Yes</td>\n",
       "      <td>4</td>\n",
       "      <td>No</td>\n",
       "      <td>No</td>\n",
       "      <td>No</td>\n",
       "      <td>No</td>\n",
       "      <td>No</td>\n",
       "      <td>Month-to-month</td>\n",
       "      <td>No</td>\n",
       "      <td>20.40</td>\n",
       "      <td>No</td>\n",
       "    </tr>\n",
       "  </tbody>\n",
       "</table>\n",
       "<p>4930 rows × 11 columns</p>\n",
       "</div>"
      ],
      "text/plain": [
       "     Dependents  tenure OnlineSecurity OnlineBackup InternetService  \\\n",
       "0           Yes       9             No           No             DSL   \n",
       "1            No      14             No          Yes     Fiber optic   \n",
       "2            No      64            Yes           No             DSL   \n",
       "3            No      72            Yes          Yes             DSL   \n",
       "4            No       3             No           No              No   \n",
       "...         ...     ...            ...          ...             ...   \n",
       "4925         No      15             No           No     Fiber optic   \n",
       "4926        Yes      10             No           No     Fiber optic   \n",
       "4927         No      58             No           No              No   \n",
       "4928         No       1             No           No     Fiber optic   \n",
       "4929        Yes       4             No           No              No   \n",
       "\n",
       "     DeviceProtection TechSupport        Contract PaperlessBilling  \\\n",
       "0                 Yes         Yes  Month-to-month              Yes   \n",
       "1                 Yes          No  Month-to-month              Yes   \n",
       "2                 Yes         Yes        Two year               No   \n",
       "3                 Yes         Yes        Two year               No   \n",
       "4                  No          No  Month-to-month              Yes   \n",
       "...               ...         ...             ...              ...   \n",
       "4925              Yes         Yes  Month-to-month              Yes   \n",
       "4926              Yes         Yes  Month-to-month              Yes   \n",
       "4927               No          No        Two year               No   \n",
       "4928               No          No  Month-to-month              Yes   \n",
       "4929               No          No  Month-to-month               No   \n",
       "\n",
       "      MonthlyCharges Churn  \n",
       "0              72.90   Yes  \n",
       "1              82.65    No  \n",
       "2              47.85   Yes  \n",
       "3              69.65    No  \n",
       "4              23.60    No  \n",
       "...              ...   ...  \n",
       "4925          103.45    No  \n",
       "4926           91.10    No  \n",
       "4927           20.75    No  \n",
       "4928           69.75   Yes  \n",
       "4929           20.40    No  \n",
       "\n",
       "[4930 rows x 11 columns]"
      ]
     },
     "execution_count": 302,
     "metadata": {},
     "output_type": "execute_result"
    }
   ],
   "source": [
    "data"
   ]
  },
  {
   "cell_type": "code",
   "execution_count": 303,
   "id": "af156198",
   "metadata": {},
   "outputs": [
    {
     "data": {
      "text/html": [
       "<div>\n",
       "<style scoped>\n",
       "    .dataframe tbody tr th:only-of-type {\n",
       "        vertical-align: middle;\n",
       "    }\n",
       "\n",
       "    .dataframe tbody tr th {\n",
       "        vertical-align: top;\n",
       "    }\n",
       "\n",
       "    .dataframe thead th {\n",
       "        text-align: right;\n",
       "    }\n",
       "</style>\n",
       "<table border=\"1\" class=\"dataframe\">\n",
       "  <thead>\n",
       "    <tr style=\"text-align: right;\">\n",
       "      <th></th>\n",
       "      <th>onehot__x0_Yes</th>\n",
       "      <th>onehot__x1_Yes</th>\n",
       "      <th>onehot__x2_Yes</th>\n",
       "      <th>onehot__x3_Fiber optic</th>\n",
       "      <th>onehot__x3_No</th>\n",
       "      <th>onehot__x4_Yes</th>\n",
       "      <th>onehot__x5_Yes</th>\n",
       "      <th>onehot__x6_One year</th>\n",
       "      <th>onehot__x6_Two year</th>\n",
       "      <th>onehot__x7_Yes</th>\n",
       "      <th>tenure</th>\n",
       "      <th>MonthlyCharges</th>\n",
       "    </tr>\n",
       "  </thead>\n",
       "  <tbody>\n",
       "    <tr>\n",
       "      <th>0</th>\n",
       "      <td>1.0</td>\n",
       "      <td>1.0</td>\n",
       "      <td>1.0</td>\n",
       "      <td>0.0</td>\n",
       "      <td>0.0</td>\n",
       "      <td>1.0</td>\n",
       "      <td>1.0</td>\n",
       "      <td>0.0</td>\n",
       "      <td>1.0</td>\n",
       "      <td>1.0</td>\n",
       "      <td>72.0</td>\n",
       "      <td>70.45</td>\n",
       "    </tr>\n",
       "    <tr>\n",
       "      <th>1</th>\n",
       "      <td>0.0</td>\n",
       "      <td>0.0</td>\n",
       "      <td>1.0</td>\n",
       "      <td>0.0</td>\n",
       "      <td>0.0</td>\n",
       "      <td>1.0</td>\n",
       "      <td>0.0</td>\n",
       "      <td>0.0</td>\n",
       "      <td>1.0</td>\n",
       "      <td>1.0</td>\n",
       "      <td>72.0</td>\n",
       "      <td>54.20</td>\n",
       "    </tr>\n",
       "    <tr>\n",
       "      <th>2</th>\n",
       "      <td>0.0</td>\n",
       "      <td>1.0</td>\n",
       "      <td>0.0</td>\n",
       "      <td>0.0</td>\n",
       "      <td>0.0</td>\n",
       "      <td>0.0</td>\n",
       "      <td>1.0</td>\n",
       "      <td>0.0</td>\n",
       "      <td>0.0</td>\n",
       "      <td>1.0</td>\n",
       "      <td>45.0</td>\n",
       "      <td>70.05</td>\n",
       "    </tr>\n",
       "    <tr>\n",
       "      <th>3</th>\n",
       "      <td>0.0</td>\n",
       "      <td>1.0</td>\n",
       "      <td>1.0</td>\n",
       "      <td>0.0</td>\n",
       "      <td>0.0</td>\n",
       "      <td>0.0</td>\n",
       "      <td>0.0</td>\n",
       "      <td>0.0</td>\n",
       "      <td>1.0</td>\n",
       "      <td>0.0</td>\n",
       "      <td>48.0</td>\n",
       "      <td>55.50</td>\n",
       "    </tr>\n",
       "    <tr>\n",
       "      <th>4</th>\n",
       "      <td>0.0</td>\n",
       "      <td>0.0</td>\n",
       "      <td>0.0</td>\n",
       "      <td>1.0</td>\n",
       "      <td>0.0</td>\n",
       "      <td>0.0</td>\n",
       "      <td>0.0</td>\n",
       "      <td>0.0</td>\n",
       "      <td>0.0</td>\n",
       "      <td>1.0</td>\n",
       "      <td>13.0</td>\n",
       "      <td>82.00</td>\n",
       "    </tr>\n",
       "  </tbody>\n",
       "</table>\n",
       "</div>"
      ],
      "text/plain": [
       "   onehot__x0_Yes  onehot__x1_Yes  onehot__x2_Yes  onehot__x3_Fiber optic  \\\n",
       "0             1.0             1.0             1.0                     0.0   \n",
       "1             0.0             0.0             1.0                     0.0   \n",
       "2             0.0             1.0             0.0                     0.0   \n",
       "3             0.0             1.0             1.0                     0.0   \n",
       "4             0.0             0.0             0.0                     1.0   \n",
       "\n",
       "   onehot__x3_No  onehot__x4_Yes  onehot__x5_Yes  onehot__x6_One year  \\\n",
       "0            0.0             1.0             1.0                  0.0   \n",
       "1            0.0             1.0             0.0                  0.0   \n",
       "2            0.0             0.0             1.0                  0.0   \n",
       "3            0.0             0.0             0.0                  0.0   \n",
       "4            0.0             0.0             0.0                  0.0   \n",
       "\n",
       "   onehot__x6_Two year  onehot__x7_Yes  tenure  MonthlyCharges  \n",
       "0                  1.0             1.0    72.0           70.45  \n",
       "1                  1.0             1.0    72.0           54.20  \n",
       "2                  0.0             1.0    45.0           70.05  \n",
       "3                  1.0             0.0    48.0           55.50  \n",
       "4                  0.0             1.0    13.0           82.00  "
      ]
     },
     "execution_count": 303,
     "metadata": {},
     "output_type": "execute_result"
    }
   ],
   "source": [
    "testing = pd.DataFrame(transformer.fit_transform(x_train),columns=transformer.get_feature_names())\n",
    "testing.head()"
   ]
  },
  {
   "cell_type": "code",
   "execution_count": 326,
   "id": "f655ef07",
   "metadata": {},
   "outputs": [],
   "source": [
    "model_cv=cross_val_score(estimator,x_train,y_train,cv=skfold,scoring='roc_auc')"
   ]
  },
  {
   "cell_type": "code",
   "execution_count": 336,
   "id": "7f109cd6",
   "metadata": {},
   "outputs": [],
   "source": [
    "transformer = data_prep"
   ]
  },
  {
   "cell_type": "markdown",
   "id": "f0806faf",
   "metadata": {},
   "source": [
    "---------------------------------------------------"
   ]
  },
  {
   "cell_type": "code",
   "execution_count": 263,
   "id": "85967d96",
   "metadata": {},
   "outputs": [],
   "source": [
    "# Model Selection\n",
    "from sklearn.linear_model import LogisticRegression\n",
    "from sklearn.tree import DecisionTreeClassifier\n",
    "from sklearn.model_selection import GridSearchCV,StratifiedKFold,train_test_split, cross_val_score\n",
    "from sklearn.metrics import classification_report, confusion_matrix\n",
    "from sklearn.neighbors import KNeighborsClassifier\n",
    "from sklearn.ensemble import RandomForestClassifier\n",
    "from xgboost import XGBClassifier\n",
    "import lightgbm as lgb\n",
    "from sklearn.metrics import f1_score, accuracy_score, recall_score, precision_score\n",
    "from sklearn.metrics import roc_curve, roc_auc_score, plot_roc_curve"
   ]
  },
  {
   "cell_type": "code",
   "execution_count": 272,
   "id": "7b684791",
   "metadata": {},
   "outputs": [],
   "source": [
    "# Imbalance Dataset\n",
    "from imblearn.pipeline import Pipeline\n",
    "from imblearn.over_sampling import RandomOverSampler\n",
    "\n",
    "# Ignore Warning\n",
    "import sys\n",
    "import warnings\n",
    "if not sys.warnoptions:\n",
    "    warnings.simplefilter(\"ignore\")\n",
    "\n",
    "# Set max columns\n",
    "pd.set_option('display.max_columns', None)"
   ]
  },
  {
   "cell_type": "code",
   "execution_count": 270,
   "id": "f2c4596d",
   "metadata": {},
   "outputs": [],
   "source": [
    "# Feature Engineering\n",
    "from sklearn.pipeline import Pipeline\n",
    "from sklearn.impute import SimpleImputer"
   ]
  },
  {
   "cell_type": "code",
   "execution_count": 304,
   "id": "d36d3813",
   "metadata": {},
   "outputs": [],
   "source": [
    "logreg = LogisticRegression()\n",
    "knn = KNeighborsClassifier()\n",
    "dt = DecisionTreeClassifier()\n",
    "rf = RandomForestClassifier()\n",
    "xgb = XGBClassifier()\n",
    "lgbm = lgb.LGBMClassifier()"
   ]
  },
  {
   "cell_type": "code",
   "execution_count": 305,
   "id": "8bb2a5a2",
   "metadata": {},
   "outputs": [],
   "source": [
    "from sklearn.preprocessing import OneHotEncoder, LabelEncoder, OrdinalEncoder\n",
    "from sklearn.compose import ColumnTransformer"
   ]
  },
  {
   "cell_type": "code",
   "execution_count": 306,
   "id": "61de784c",
   "metadata": {},
   "outputs": [],
   "source": [
    "models = [logreg,knn,dt,rf,xgb,lgbm]\n",
    "score=[]\n",
    "rata=[]\n",
    "std=[]"
   ]
  },
  {
   "cell_type": "code",
   "execution_count": 314,
   "id": "139af500",
   "metadata": {},
   "outputs": [
    {
     "data": {
      "text/html": [
       "<div>\n",
       "<style scoped>\n",
       "    .dataframe tbody tr th:only-of-type {\n",
       "        vertical-align: middle;\n",
       "    }\n",
       "\n",
       "    .dataframe tbody tr th {\n",
       "        vertical-align: top;\n",
       "    }\n",
       "\n",
       "    .dataframe thead th {\n",
       "        text-align: right;\n",
       "    }\n",
       "</style>\n",
       "<table border=\"1\" class=\"dataframe\">\n",
       "  <thead>\n",
       "    <tr style=\"text-align: right;\">\n",
       "      <th></th>\n",
       "      <th>Dependents</th>\n",
       "      <th>tenure</th>\n",
       "      <th>OnlineSecurity</th>\n",
       "      <th>OnlineBackup</th>\n",
       "      <th>InternetService</th>\n",
       "      <th>DeviceProtection</th>\n",
       "      <th>TechSupport</th>\n",
       "      <th>Contract</th>\n",
       "      <th>PaperlessBilling</th>\n",
       "      <th>MonthlyCharges</th>\n",
       "    </tr>\n",
       "  </thead>\n",
       "  <tbody>\n",
       "    <tr>\n",
       "      <th>2206</th>\n",
       "      <td>Yes</td>\n",
       "      <td>72</td>\n",
       "      <td>Yes</td>\n",
       "      <td>Yes</td>\n",
       "      <td>DSL</td>\n",
       "      <td>Yes</td>\n",
       "      <td>Yes</td>\n",
       "      <td>Two year</td>\n",
       "      <td>Yes</td>\n",
       "      <td>70.45</td>\n",
       "    </tr>\n",
       "    <tr>\n",
       "      <th>62</th>\n",
       "      <td>No</td>\n",
       "      <td>72</td>\n",
       "      <td>No</td>\n",
       "      <td>Yes</td>\n",
       "      <td>DSL</td>\n",
       "      <td>Yes</td>\n",
       "      <td>No</td>\n",
       "      <td>Two year</td>\n",
       "      <td>Yes</td>\n",
       "      <td>54.20</td>\n",
       "    </tr>\n",
       "    <tr>\n",
       "      <th>2486</th>\n",
       "      <td>No</td>\n",
       "      <td>45</td>\n",
       "      <td>Yes</td>\n",
       "      <td>No</td>\n",
       "      <td>DSL</td>\n",
       "      <td>No</td>\n",
       "      <td>Yes</td>\n",
       "      <td>Month-to-month</td>\n",
       "      <td>Yes</td>\n",
       "      <td>70.05</td>\n",
       "    </tr>\n",
       "    <tr>\n",
       "      <th>2234</th>\n",
       "      <td>No</td>\n",
       "      <td>48</td>\n",
       "      <td>Yes</td>\n",
       "      <td>Yes</td>\n",
       "      <td>DSL</td>\n",
       "      <td>No</td>\n",
       "      <td>No</td>\n",
       "      <td>Two year</td>\n",
       "      <td>No</td>\n",
       "      <td>55.50</td>\n",
       "    </tr>\n",
       "    <tr>\n",
       "      <th>1330</th>\n",
       "      <td>No</td>\n",
       "      <td>13</td>\n",
       "      <td>No</td>\n",
       "      <td>No</td>\n",
       "      <td>Fiber optic</td>\n",
       "      <td>No</td>\n",
       "      <td>No</td>\n",
       "      <td>Month-to-month</td>\n",
       "      <td>Yes</td>\n",
       "      <td>82.00</td>\n",
       "    </tr>\n",
       "    <tr>\n",
       "      <th>...</th>\n",
       "      <td>...</td>\n",
       "      <td>...</td>\n",
       "      <td>...</td>\n",
       "      <td>...</td>\n",
       "      <td>...</td>\n",
       "      <td>...</td>\n",
       "      <td>...</td>\n",
       "      <td>...</td>\n",
       "      <td>...</td>\n",
       "      <td>...</td>\n",
       "    </tr>\n",
       "    <tr>\n",
       "      <th>4219</th>\n",
       "      <td>Yes</td>\n",
       "      <td>62</td>\n",
       "      <td>Yes</td>\n",
       "      <td>Yes</td>\n",
       "      <td>Fiber optic</td>\n",
       "      <td>No</td>\n",
       "      <td>No</td>\n",
       "      <td>Month-to-month</td>\n",
       "      <td>Yes</td>\n",
       "      <td>105.50</td>\n",
       "    </tr>\n",
       "    <tr>\n",
       "      <th>1088</th>\n",
       "      <td>Yes</td>\n",
       "      <td>23</td>\n",
       "      <td>Yes</td>\n",
       "      <td>Yes</td>\n",
       "      <td>DSL</td>\n",
       "      <td>Yes</td>\n",
       "      <td>Yes</td>\n",
       "      <td>One year</td>\n",
       "      <td>Yes</td>\n",
       "      <td>66.25</td>\n",
       "    </tr>\n",
       "    <tr>\n",
       "      <th>926</th>\n",
       "      <td>No</td>\n",
       "      <td>69</td>\n",
       "      <td>No</td>\n",
       "      <td>Yes</td>\n",
       "      <td>Fiber optic</td>\n",
       "      <td>Yes</td>\n",
       "      <td>No</td>\n",
       "      <td>Month-to-month</td>\n",
       "      <td>Yes</td>\n",
       "      <td>85.40</td>\n",
       "    </tr>\n",
       "    <tr>\n",
       "      <th>143</th>\n",
       "      <td>No</td>\n",
       "      <td>57</td>\n",
       "      <td>No</td>\n",
       "      <td>Yes</td>\n",
       "      <td>DSL</td>\n",
       "      <td>Yes</td>\n",
       "      <td>No</td>\n",
       "      <td>Two year</td>\n",
       "      <td>Yes</td>\n",
       "      <td>79.75</td>\n",
       "    </tr>\n",
       "    <tr>\n",
       "      <th>2162</th>\n",
       "      <td>No</td>\n",
       "      <td>30</td>\n",
       "      <td>No</td>\n",
       "      <td>No</td>\n",
       "      <td>DSL</td>\n",
       "      <td>Yes</td>\n",
       "      <td>No</td>\n",
       "      <td>Two year</td>\n",
       "      <td>No</td>\n",
       "      <td>74.85</td>\n",
       "    </tr>\n",
       "  </tbody>\n",
       "</table>\n",
       "<p>3944 rows × 10 columns</p>\n",
       "</div>"
      ],
      "text/plain": [
       "     Dependents  tenure OnlineSecurity OnlineBackup InternetService  \\\n",
       "2206        Yes      72            Yes          Yes             DSL   \n",
       "62           No      72             No          Yes             DSL   \n",
       "2486         No      45            Yes           No             DSL   \n",
       "2234         No      48            Yes          Yes             DSL   \n",
       "1330         No      13             No           No     Fiber optic   \n",
       "...         ...     ...            ...          ...             ...   \n",
       "4219        Yes      62            Yes          Yes     Fiber optic   \n",
       "1088        Yes      23            Yes          Yes             DSL   \n",
       "926          No      69             No          Yes     Fiber optic   \n",
       "143          No      57             No          Yes             DSL   \n",
       "2162         No      30             No           No             DSL   \n",
       "\n",
       "     DeviceProtection TechSupport        Contract PaperlessBilling  \\\n",
       "2206              Yes         Yes        Two year              Yes   \n",
       "62                Yes          No        Two year              Yes   \n",
       "2486               No         Yes  Month-to-month              Yes   \n",
       "2234               No          No        Two year               No   \n",
       "1330               No          No  Month-to-month              Yes   \n",
       "...               ...         ...             ...              ...   \n",
       "4219               No          No  Month-to-month              Yes   \n",
       "1088              Yes         Yes        One year              Yes   \n",
       "926               Yes          No  Month-to-month              Yes   \n",
       "143               Yes          No        Two year              Yes   \n",
       "2162              Yes          No        Two year               No   \n",
       "\n",
       "      MonthlyCharges  \n",
       "2206           70.45  \n",
       "62             54.20  \n",
       "2486           70.05  \n",
       "2234           55.50  \n",
       "1330           82.00  \n",
       "...              ...  \n",
       "4219          105.50  \n",
       "1088           66.25  \n",
       "926            85.40  \n",
       "143            79.75  \n",
       "2162           74.85  \n",
       "\n",
       "[3944 rows x 10 columns]"
      ]
     },
     "execution_count": 314,
     "metadata": {},
     "output_type": "execute_result"
    }
   ],
   "source": [
    "x_train"
   ]
  },
  {
   "cell_type": "markdown",
   "id": "5bac40d5",
   "metadata": {},
   "source": [
    "---------------------------------------------------"
   ]
  },
  {
   "cell_type": "markdown",
   "id": "8ba87317",
   "metadata": {},
   "source": [
    "## Gradient Boosting Classification without oversampling"
   ]
  },
  {
   "cell_type": "code",
   "execution_count": 71,
   "id": "fa06a128",
   "metadata": {},
   "outputs": [
    {
     "name": "stdout",
     "output_type": "stream",
     "text": [
      "[[633  86]\n",
      " [120 147]]\n",
      "Akurasi dari Gradient Boost adalah: 79.11\n",
      "Recall dari Gradient Boost adalah: 55.0561797752809\n",
      "Precision dari Gradient Boost adalah: 63.0901287553648\n"
     ]
    }
   ],
   "source": [
    "gb_clf = GradientBoostingClassifier(random_state=5, learning_rate= 1, loss= 'exponential', max_depth= 1, max_features= 1)\n",
    "\n",
    "gb_clf.fit(x_train, y_train)\n",
    "predictiongnb = gb_clf.predict(x_test)\n",
    "\n",
    "print(confusion_matrix(y_test, predictiongnb))\n",
    "\n",
    "print(\"Akurasi dari Gradient Boost adalah: %.2f\" % (accuracy_score(y_test, predictiongnb)*100) )\n",
    "\n",
    "print(\"Recall dari Gradient Boost adalah:\",recall_score(y_test, predictiongnb)*100)\n",
    "\n",
    "print(\"Precision dari Gradient Boost adalah:\",precision_score(y_test, predictiongnb)*100)"
   ]
  },
  {
   "cell_type": "markdown",
   "id": "462a1b96",
   "metadata": {},
   "source": [
    "## Gradient Boosting Classification oversampling 55:45"
   ]
  },
  {
   "cell_type": "code",
   "execution_count": 72,
   "id": "b813a392",
   "metadata": {},
   "outputs": [
    {
     "name": "stdout",
     "output_type": "stream",
     "text": [
      "[[567 152]\n",
      " [ 70 197]]\n",
      "Akurasi dari Gradient Boost adalah: 77.48\n",
      "Recall dari Gradient Boost adalah: 73.78277153558052\n",
      "Precision dari Gradient Boost adalah: 56.446991404011456\n",
      "\n"
     ]
    }
   ],
   "source": [
    "gb_clf.fit(x_resample_2, y_resample_2)\n",
    "predictiongnb = gb_clf.predict(x_test)\n",
    "print(confusion_matrix(y_test, predictiongnb))\n",
    "print(\"Akurasi dari Gradient Boost adalah: %.2f\" % (accuracy_score(y_test, predictiongnb)*100) )\n",
    "print(\"Recall dari Gradient Boost adalah:\",recall_score(y_test, predictiongnb)*100)\n",
    "print(\"Precision dari Gradient Boost adalah:\",precision_score(y_test, predictiongnb)*100)\n",
    "print(\"\")"
   ]
  },
  {
   "cell_type": "markdown",
   "id": "f4caa4bd",
   "metadata": {},
   "source": [
    "## Ada Boost without oversampling"
   ]
  },
  {
   "cell_type": "code",
   "execution_count": 73,
   "id": "97f54432",
   "metadata": {},
   "outputs": [
    {
     "name": "stdout",
     "output_type": "stream",
     "text": [
      "[[634  85]\n",
      " [121 146]]\n",
      "Akurasi dari Ada Boost adalah: 79.11\n",
      "Recall dari Ada Boost adalah: 54.68164794007491\n",
      "Precision dari Ada Boost adalah: 63.20346320346321\n",
      "\n"
     ]
    }
   ],
   "source": [
    "ada = AdaBoostClassifier(random_state=5, learning_rate=0.5, n_estimators=50)\n",
    "ada.fit(x_train, y_train)\n",
    "predictionada = ada.predict(x_test)\n",
    "print(confusion_matrix(y_test, predictionada))\n",
    "print(\"Akurasi dari Ada Boost adalah: %.2f\" % (accuracy_score(y_test, predictionada)*100) )\n",
    "print(\"Recall dari Ada Boost adalah:\",recall_score(y_test, predictionada)*100)\n",
    "print(\"Precision dari Ada Boost adalah:\",precision_score(y_test, predictionada)*100)\n",
    "print(\"\")\n"
   ]
  },
  {
   "cell_type": "markdown",
   "id": "700f9a35",
   "metadata": {},
   "source": [
    "## Ada Boost oversampling 55:45\n"
   ]
  },
  {
   "cell_type": "code",
   "execution_count": 74,
   "id": "f45012ff",
   "metadata": {},
   "outputs": [
    {
     "name": "stdout",
     "output_type": "stream",
     "text": [
      "[[541 178]\n",
      " [ 57 210]]\n",
      "Akurasi dari Ada Boost adalah: 76.17\n",
      "Recall dari Ada Boost adalah: 78.65168539325843\n",
      "Precision dari Ada Boost adalah: 54.123711340206185\n",
      "\n"
     ]
    }
   ],
   "source": [
    "ada.fit(x_resample, y_resample)\n",
    "predictionada = ada.predict(x_test)\n",
    "print(confusion_matrix(y_test, predictionada))\n",
    "print(\"Akurasi dari Ada Boost adalah: %.2f\" % (accuracy_score(y_test, predictionada)*100) )\n",
    "print(\"Recall dari Ada Boost adalah:\",recall_score(y_test, predictionada)*100)\n",
    "print(\"Precision dari Ada Boost adalah:\",precision_score(y_test, predictionada)*100)\n",
    "print(\"\")"
   ]
  },
  {
   "cell_type": "markdown",
   "id": "7b2e4c2d",
   "metadata": {},
   "source": [
    "## Ada Boost oversampling 60:40"
   ]
  },
  {
   "cell_type": "code",
   "execution_count": 75,
   "id": "a0af0761",
   "metadata": {},
   "outputs": [
    {
     "name": "stdout",
     "output_type": "stream",
     "text": [
      "[[559 160]\n",
      " [ 63 204]]\n",
      "Akurasi dari Ada Boost adalah: 77.38\n",
      "Recall dari Ada Boost adalah: 76.40449438202246\n",
      "Precision dari Ada Boost adalah: 56.043956043956044\n",
      "\n"
     ]
    }
   ],
   "source": [
    "ada.fit(x_resample_2, y_resample_2)\n",
    "predictionada = ada.predict(x_test)\n",
    "print(confusion_matrix(y_test, predictionada))\n",
    "print(\"Akurasi dari Ada Boost adalah: %.2f\" % (accuracy_score(y_test, predictionada)*100) )\n",
    "print(\"Recall dari Ada Boost adalah:\",recall_score(y_test, predictionada)*100)\n",
    "print(\"Precision dari Ada Boost adalah:\",precision_score(y_test, predictionada)*100)\n",
    "print(\"\")\n"
   ]
  },
  {
   "cell_type": "markdown",
   "id": "138dbadb",
   "metadata": {},
   "source": [
    "## LightGBM without oversampling\n"
   ]
  },
  {
   "cell_type": "code",
   "execution_count": 76,
   "id": "28ebf085",
   "metadata": {},
   "outputs": [
    {
     "name": "stdout",
     "output_type": "stream",
     "text": [
      "[[645  74]\n",
      " [126 141]]\n",
      "Akurasi dari LightGBM adalah: 79.72\n",
      "Recall dari LightGBM adalah: 52.80898876404494\n",
      "Precision dari LightGBM adalah: 65.58139534883722\n",
      "\n"
     ]
    }
   ],
   "source": [
    "lgbm = LGBMClassifier(random_state=5, learning_rate= 0.05, n_estimators= 90, num_leaves= 20, boosting_type='dart')\n",
    "lgbm.fit(x_train, y_train)\n",
    "predictionlgbm = lgbm.predict(x_test)\n",
    "print(confusion_matrix(y_test, predictionlgbm))\n",
    "print(\"Akurasi dari LightGBM adalah: %.2f\" % (accuracy_score(y_test, predictionlgbm)*100) )\n",
    "print(\"Recall dari LightGBM adalah:\",recall_score(y_test, predictionlgbm)*100)\n",
    "print(\"Precision dari LightGBM adalah:\",precision_score(y_test, predictionlgbm)*100)\n",
    "print(\"\")\n"
   ]
  },
  {
   "cell_type": "markdown",
   "id": "a1ab02a1",
   "metadata": {},
   "source": [
    "## LightGBM oversampling 55:45\n"
   ]
  },
  {
   "cell_type": "code",
   "execution_count": 78,
   "id": "f8854661",
   "metadata": {},
   "outputs": [
    {
     "name": "stdout",
     "output_type": "stream",
     "text": [
      "[[567 152]\n",
      " [ 68 199]]\n",
      "Akurasi dari LightGBM adalah: 77.69\n",
      "Recall dari LightGBM adalah: 74.53183520599251\n",
      "Precision dari LightGBM adalah: 56.69515669515669\n",
      "\n"
     ]
    }
   ],
   "source": [
    "lgbm.fit(x_resample, y_resample)\n",
    "predictionlgbm = lgbm.predict(x_test)\n",
    "print(confusion_matrix(y_test, predictionlgbm))\n",
    "print(\"Akurasi dari LightGBM adalah: %.2f\" % (accuracy_score(y_test, predictionlgbm)*100) )\n",
    "print(\"Recall dari LightGBM adalah:\",recall_score(y_test, predictionlgbm)*100)\n",
    "print(\"Precision dari LightGBM adalah:\",precision_score(y_test, predictionlgbm)*100)\n",
    "print(\"\")"
   ]
  },
  {
   "cell_type": "markdown",
   "id": "ee116ca3",
   "metadata": {},
   "source": [
    "## LightGBM oversampling 60:40\n"
   ]
  },
  {
   "cell_type": "code",
   "execution_count": 80,
   "id": "e3b9bf37",
   "metadata": {},
   "outputs": [
    {
     "name": "stdout",
     "output_type": "stream",
     "text": [
      "[[588 131]\n",
      " [ 79 188]]\n",
      "Akurasi dari LightGBM adalah: 78.70\n",
      "Recall dari LightGBM adalah: 70.4119850187266\n",
      "Precision dari LightGBM adalah: 58.93416927899686\n",
      "\n"
     ]
    }
   ],
   "source": [
    "lgbm.fit(x_resample_2, y_resample_2)\n",
    "predictionlgbm = lgbm.predict(x_test)\n",
    "print(confusion_matrix(y_test, predictionlgbm))\n",
    "print(\"Akurasi dari LightGBM adalah: %.2f\" % (accuracy_score(y_test, predictionlgbm)*100) )\n",
    "print(\"Recall dari LightGBM adalah:\",recall_score(y_test, predictionlgbm)*100)\n",
    "print(\"Precision dari LightGBM adalah:\",precision_score(y_test, predictionlgbm)*100)\n",
    "print(\"\")"
   ]
  },
  {
   "cell_type": "markdown",
   "id": "7e4d716b",
   "metadata": {},
   "source": [
    "## Feature Selection"
   ]
  },
  {
   "cell_type": "markdown",
   "id": "cc069ed2",
   "metadata": {},
   "source": [
    "Finding out the best feature which will contribute and have good relation with target variable. Following are some of the feature selection methods,\n",
    "\n",
    "**heatmap**\n",
    "**feature_importance_**\n",
    "**SelectKBest**"
   ]
  },
  {
   "cell_type": "code",
   "execution_count": 114,
   "id": "da5d3c97",
   "metadata": {},
   "outputs": [
    {
     "name": "stdout",
     "output_type": "stream",
     "text": [
      "Requirement already satisfied: scikit-learn in c:\\programdata\\anaconda3\\lib\\site-packages (1.1.1)\n",
      "Requirement already satisfied: scipy>=1.3.2 in c:\\programdata\\anaconda3\\lib\\site-packages (from scikit-learn) (1.7.1)\n",
      "Requirement already satisfied: threadpoolctl>=2.0.0 in c:\\programdata\\anaconda3\\lib\\site-packages (from scikit-learn) (2.2.0)\n",
      "Requirement already satisfied: numpy>=1.17.3 in c:\\programdata\\anaconda3\\lib\\site-packages (from scikit-learn) (1.20.3)\n",
      "Requirement already satisfied: joblib>=1.0.0 in c:\\programdata\\anaconda3\\lib\\site-packages (from scikit-learn) (1.1.0)\n",
      "Note: you may need to restart the kernel to use updated packages.\n"
     ]
    }
   ],
   "source": [
    "pip install -U scikit-learn"
   ]
  },
  {
   "cell_type": "code",
   "execution_count": 115,
   "id": "b54a252a",
   "metadata": {},
   "outputs": [
    {
     "data": {
      "text/html": [
       "<style>#sk-container-id-4 {color: black;background-color: white;}#sk-container-id-4 pre{padding: 0;}#sk-container-id-4 div.sk-toggleable {background-color: white;}#sk-container-id-4 label.sk-toggleable__label {cursor: pointer;display: block;width: 100%;margin-bottom: 0;padding: 0.3em;box-sizing: border-box;text-align: center;}#sk-container-id-4 label.sk-toggleable__label-arrow:before {content: \"▸\";float: left;margin-right: 0.25em;color: #696969;}#sk-container-id-4 label.sk-toggleable__label-arrow:hover:before {color: black;}#sk-container-id-4 div.sk-estimator:hover label.sk-toggleable__label-arrow:before {color: black;}#sk-container-id-4 div.sk-toggleable__content {max-height: 0;max-width: 0;overflow: hidden;text-align: left;background-color: #f0f8ff;}#sk-container-id-4 div.sk-toggleable__content pre {margin: 0.2em;color: black;border-radius: 0.25em;background-color: #f0f8ff;}#sk-container-id-4 input.sk-toggleable__control:checked~div.sk-toggleable__content {max-height: 200px;max-width: 100%;overflow: auto;}#sk-container-id-4 input.sk-toggleable__control:checked~label.sk-toggleable__label-arrow:before {content: \"▾\";}#sk-container-id-4 div.sk-estimator input.sk-toggleable__control:checked~label.sk-toggleable__label {background-color: #d4ebff;}#sk-container-id-4 div.sk-label input.sk-toggleable__control:checked~label.sk-toggleable__label {background-color: #d4ebff;}#sk-container-id-4 input.sk-hidden--visually {border: 0;clip: rect(1px 1px 1px 1px);clip: rect(1px, 1px, 1px, 1px);height: 1px;margin: -1px;overflow: hidden;padding: 0;position: absolute;width: 1px;}#sk-container-id-4 div.sk-estimator {font-family: monospace;background-color: #f0f8ff;border: 1px dotted black;border-radius: 0.25em;box-sizing: border-box;margin-bottom: 0.5em;}#sk-container-id-4 div.sk-estimator:hover {background-color: #d4ebff;}#sk-container-id-4 div.sk-parallel-item::after {content: \"\";width: 100%;border-bottom: 1px solid gray;flex-grow: 1;}#sk-container-id-4 div.sk-label:hover label.sk-toggleable__label {background-color: #d4ebff;}#sk-container-id-4 div.sk-serial::before {content: \"\";position: absolute;border-left: 1px solid gray;box-sizing: border-box;top: 0;bottom: 0;left: 50%;z-index: 0;}#sk-container-id-4 div.sk-serial {display: flex;flex-direction: column;align-items: center;background-color: white;padding-right: 0.2em;padding-left: 0.2em;position: relative;}#sk-container-id-4 div.sk-item {position: relative;z-index: 1;}#sk-container-id-4 div.sk-parallel {display: flex;align-items: stretch;justify-content: center;background-color: white;position: relative;}#sk-container-id-4 div.sk-item::before, #sk-container-id-4 div.sk-parallel-item::before {content: \"\";position: absolute;border-left: 1px solid gray;box-sizing: border-box;top: 0;bottom: 0;left: 50%;z-index: -1;}#sk-container-id-4 div.sk-parallel-item {display: flex;flex-direction: column;z-index: 1;position: relative;background-color: white;}#sk-container-id-4 div.sk-parallel-item:first-child::after {align-self: flex-end;width: 50%;}#sk-container-id-4 div.sk-parallel-item:last-child::after {align-self: flex-start;width: 50%;}#sk-container-id-4 div.sk-parallel-item:only-child::after {width: 0;}#sk-container-id-4 div.sk-dashed-wrapped {border: 1px dashed gray;margin: 0 0.4em 0.5em 0.4em;box-sizing: border-box;padding-bottom: 0.4em;background-color: white;}#sk-container-id-4 div.sk-label label {font-family: monospace;font-weight: bold;display: inline-block;line-height: 1.2em;}#sk-container-id-4 div.sk-label-container {text-align: center;}#sk-container-id-4 div.sk-container {/* jupyter's `normalize.less` sets `[hidden] { display: none; }` but bootstrap.min.css set `[hidden] { display: none !important; }` so we also need the `!important` here to be able to override the default hidden behavior on the sphinx rendered scikit-learn.org. See: https://github.com/scikit-learn/scikit-learn/issues/21755 */display: inline-block !important;position: relative;}#sk-container-id-4 div.sk-text-repr-fallback {display: none;}</style><div id=\"sk-container-id-4\" class=\"sk-top-container\"><div class=\"sk-text-repr-fallback\"><pre>ExtraTreesRegressor()</pre><b>In a Jupyter environment, please rerun this cell to show the HTML representation or trust the notebook. <br />On GitHub, the HTML representation is unable to render, please try loading this page with nbviewer.org.</b></div><div class=\"sk-container\" hidden><div class=\"sk-item\"><div class=\"sk-estimator sk-toggleable\"><input class=\"sk-toggleable__control sk-hidden--visually\" id=\"sk-estimator-id-4\" type=\"checkbox\" checked><label for=\"sk-estimator-id-4\" class=\"sk-toggleable__label sk-toggleable__label-arrow\">ExtraTreesRegressor</label><div class=\"sk-toggleable__content\"><pre>ExtraTreesRegressor()</pre></div></div></div></div></div>"
      ],
      "text/plain": [
       "ExtraTreesRegressor()"
      ]
     },
     "execution_count": 115,
     "metadata": {},
     "output_type": "execute_result"
    }
   ],
   "source": [
    "# important feature using extratreeregressor\n",
    "\n",
    "from sklearn.ensemble import ExtraTreesRegressor\n",
    "selection = ExtraTreesRegressor()\n",
    "selection.fit(x_train,y_train)"
   ]
  },
  {
   "cell_type": "code",
   "execution_count": 116,
   "id": "0f89463f",
   "metadata": {},
   "outputs": [
    {
     "name": "stdout",
     "output_type": "stream",
     "text": [
      "[0.03226075 0.25958182 0.04953585 0.02893592 0.03049524 0.0343536\n",
      " 0.02641086 0.16405529 0.03144803 0.34292264]\n"
     ]
    }
   ],
   "source": [
    "print(selection.feature_importances_)"
   ]
  },
  {
   "cell_type": "code",
   "execution_count": 118,
   "id": "8baa3296",
   "metadata": {},
   "outputs": [
    {
     "data": {
      "image/png": "[encoded data removed]",
      "text/plain": [
       "<Figure size 864x576 with 1 Axes>"
      ]
     },
     "metadata": {
      "needs_background": "light"
     },
     "output_type": "display_data"
    }
   ],
   "source": [
    "#plot graph of feature importances for better visualization\n",
    "\n",
    "plt.figure(figsize = (12,8))\n",
    "feat_importances = pd.Series(selection.feature_importances_, index=x_train.columns)\n",
    "feat_importances.nlargest(20).plot(kind='barh')\n",
    "plt.show()"
   ]
  },
  {
   "cell_type": "markdown",
   "id": "8f5ecee2",
   "metadata": {},
   "source": [
    "# *Saving Model"
   ]
  },
  {
   "cell_type": "code",
   "execution_count": 354,
   "id": "0ff8e3d9",
   "metadata": {},
   "outputs": [],
   "source": [
    "import pickle"
   ]
  },
  {
   "cell_type": "code",
   "execution_count": 380,
   "id": "32f54934",
   "metadata": {},
   "outputs": [],
   "source": [
    "file = 'xgboost_model2.pkl'\n",
    "pickle.dump(xg_randomsearchCV, open(file, 'wb'))"
   ]
  },
  {
   "cell_type": "code",
   "execution_count": 356,
   "id": "4739827d",
   "metadata": {},
   "outputs": [],
   "source": [
    "load_model = pickle.load(open(file, 'rb'))"
   ]
  },
  {
   "cell_type": "code",
   "execution_count": 357,
   "id": "ab8610b7",
   "metadata": {},
   "outputs": [],
   "source": [
    "y_prep = load_model.predict(x_test)"
   ]
  },
  {
   "cell_type": "code",
   "execution_count": 358,
   "id": "ec33f1cb",
   "metadata": {},
   "outputs": [
    {
     "data": {
      "text/plain": [
       "array([0, 0, 0, 0, 0, 0, 0, 0, 0, 1, 0, 0, 0, 0, 1, 0, 0, 0, 0, 0, 0, 0,\n",
       "       0, 0, 1, 0, 0, 0, 0, 0, 0, 1, 1, 0, 1, 1, 0, 0, 0, 0, 1, 0, 0, 1,\n",
       "       0, 0, 0, 0, 0, 0, 0, 0, 0, 0, 0, 0, 0, 0, 0, 0, 0, 0, 1, 0, 0, 0,\n",
       "       0, 0, 0, 0, 0, 0, 0, 1, 0, 0, 0, 0, 1, 0, 0, 0, 0, 1, 0, 0, 0, 0,\n",
       "       1, 0, 0, 1, 1, 0, 1, 1, 1, 1, 0, 1, 0, 0, 0, 0, 0, 0, 0, 0, 0, 0,\n",
       "       0, 0, 1, 0, 0, 1, 1, 0, 0, 1, 1, 0, 0, 0, 0, 1, 1, 1, 0, 1, 0, 0,\n",
       "       0, 0, 1, 0, 1, 1, 0, 0, 0, 0, 1, 0, 0, 0, 0, 1, 0, 0, 0, 0, 0, 0,\n",
       "       0, 0, 0, 0, 0, 0, 0, 0, 0, 0, 1, 0, 0, 0, 0, 0, 1, 0, 0, 0, 1, 0,\n",
       "       1, 0, 0, 0, 1, 0, 0, 0, 0, 0, 0, 0, 0, 0, 0, 0, 0, 1, 0, 0, 0, 0,\n",
       "       0, 0, 0, 0, 0, 0, 0, 1, 0, 0, 0, 1, 1, 0, 0, 0, 0, 0, 1, 0, 1, 0,\n",
       "       0, 0, 0, 0, 1, 0, 0, 0, 0, 1, 1, 0, 0, 0, 0, 0, 0, 0, 0, 0, 0, 0,\n",
       "       0, 0, 0, 0, 0, 1, 0, 0, 0, 0, 0, 0, 0, 0, 0, 1, 0, 1, 0, 0, 0, 0,\n",
       "       0, 0, 0, 0, 1, 0, 0, 0, 0, 0, 0, 0, 0, 0, 0, 0, 0, 0, 1, 0, 1, 0,\n",
       "       0, 0, 1, 0, 0, 1, 0, 0, 1, 0, 0, 1, 0, 0, 0, 0, 0, 0, 0, 1, 0, 0,\n",
       "       0, 0, 0, 1, 0, 0, 0, 0, 0, 0, 0, 0, 0, 0, 0, 0, 1, 0, 0, 0, 0, 0,\n",
       "       0, 0, 1, 0, 1, 0, 0, 0, 0, 0, 1, 0, 1, 1, 0, 1, 1, 1, 0, 0, 1, 1,\n",
       "       0, 0, 0, 0, 0, 0, 0, 0, 0, 0, 0, 0, 0, 0, 0, 0, 0, 0, 1, 0, 0, 0,\n",
       "       1, 0, 0, 0, 0, 0, 1, 1, 0, 1, 1, 0, 0, 0, 0, 0, 0, 0, 0, 0, 0, 0,\n",
       "       0, 1, 0, 0, 0, 0, 0, 0, 1, 0, 0, 0, 0, 0, 0, 0, 0, 0, 1, 0, 0, 0,\n",
       "       0, 1, 1, 0, 1, 0, 0, 0, 0, 1, 0, 0, 0, 0, 0, 1, 0, 0, 0, 0, 0, 0,\n",
       "       1, 1, 1, 0, 1, 1, 1, 0, 1, 0, 0, 1, 1, 0, 0, 1, 0, 1, 0, 0, 0, 1,\n",
       "       0, 0, 0, 0, 0, 0, 1, 0, 0, 0, 0, 0, 0, 0, 0, 0, 0, 0, 0, 0, 1, 1,\n",
       "       1, 0, 0, 1, 0, 0, 1, 1, 0, 1, 0, 0, 0, 0, 0, 0, 0, 0, 0, 1, 0, 0,\n",
       "       1, 0, 0, 1, 0, 0, 1, 0, 1, 0, 0, 0, 0, 0, 0, 1, 0, 0, 0, 0, 0, 0,\n",
       "       0, 0, 0, 0, 0, 0, 0, 0, 0, 0, 0, 1, 0, 1, 0, 0, 0, 0, 0, 0, 0, 0,\n",
       "       0, 0, 0, 0, 0, 1, 0, 0, 1, 1, 0, 0, 0, 0, 0, 0, 0, 0, 0, 0, 0, 0,\n",
       "       1, 1, 0, 0, 0, 1, 0, 1, 0, 0, 1, 0, 0, 1, 1, 0, 1, 0, 1, 0, 1, 0,\n",
       "       0, 1, 0, 1, 0, 0, 0, 1, 0, 1, 0, 0, 0, 0, 0, 0, 1, 0, 0, 0, 0, 0,\n",
       "       0, 0, 0, 1, 0, 0, 0, 1, 1, 0, 0, 0, 0, 0, 1, 0, 0, 0, 1, 1, 0, 1,\n",
       "       1, 0, 0, 0, 0, 0, 0, 0, 0, 0, 0, 0, 0, 0, 1, 1, 0, 0, 0, 0, 1, 0,\n",
       "       1, 0, 0, 1, 1, 1, 0, 0, 0, 0, 1, 0, 0, 0, 1, 0, 1, 1, 0, 1, 1, 1,\n",
       "       0, 1, 0, 0, 0, 0, 0, 0, 0, 1, 0, 1, 0, 1, 0, 0, 1, 0, 0, 0, 0, 1,\n",
       "       0, 1, 0, 0, 0, 0, 0, 1, 0, 0, 0, 1, 1, 1, 0, 0, 0, 0, 0, 1, 0, 0,\n",
       "       0, 0, 0, 1, 0, 0, 0, 0, 0, 1, 0, 1, 0, 0, 0, 0, 0, 0, 0, 0, 0, 0,\n",
       "       0, 1, 0, 0, 1, 0, 1, 0, 0, 0, 0, 0, 0, 0, 0, 0, 0, 0, 0, 1, 1, 0,\n",
       "       1, 0, 0, 0, 0, 0, 0, 0, 0, 0, 0, 0, 0, 1, 0, 1, 1, 0, 0, 0, 1, 0,\n",
       "       1, 1, 0, 0, 0, 1, 0, 0, 0, 0, 1, 0, 0, 0, 0, 0, 0, 0, 0, 0, 0, 0,\n",
       "       1, 0, 0, 0, 0, 0, 0, 0, 0, 0, 0, 1, 1, 0, 1, 0, 0, 0, 0, 0, 0, 0,\n",
       "       0, 0, 1, 0, 0, 0, 1, 0, 0, 0, 0, 0, 0, 0, 0, 0, 0, 0, 1, 0, 1, 0,\n",
       "       0, 1, 1, 0, 0, 0, 0, 1, 1, 0, 0, 0, 0, 1, 0, 1, 0, 0, 0, 0, 0, 0,\n",
       "       0, 0, 1, 0, 1, 0, 0, 1, 0, 0, 0, 0, 0, 0, 0, 1, 1, 0, 0, 0, 0, 0,\n",
       "       1, 1, 0, 0, 0, 0, 1, 1, 1, 0, 0, 0, 0, 1, 0, 0, 1, 0, 0, 0, 0, 0,\n",
       "       0, 1, 0, 1, 0, 0, 0, 0, 0, 1, 0, 0, 0, 0, 1, 0, 0, 0, 0, 0, 0, 0,\n",
       "       1, 1, 0, 0, 1, 0, 1, 0, 0, 0, 1, 0, 1, 0, 0, 0, 0, 0, 1, 0, 1, 0,\n",
       "       0, 0, 0, 1, 1, 0, 0, 1, 1, 0, 0, 0, 1, 0, 0, 1, 0, 1])"
      ]
     },
     "execution_count": 358,
     "metadata": {},
     "output_type": "execute_result"
    }
   ],
   "source": [
    "y_prep"
   ]
  },
  {
   "cell_type": "code",
   "execution_count": null,
   "id": "5e95942b",
   "metadata": {},
   "outputs": [],
   "source": []
  }
 ],
 "metadata": {
  "kernelspec": {
   "display_name": "Python 3 (ipykernel)",
   "language": "python",
   "name": "python3"
  },
  "language_info": {
   "codemirror_mode": {
    "name": "ipython",
    "version": 3
   },
   "file_extension": ".py",
   "mimetype": "text/x-python",
   "name": "python",
   "nbconvert_exporter": "python",
   "pygments_lexer": "ipython3",
   "version": "3.9.7"
  }
 },
 "nbformat": 4,
 "nbformat_minor": 5
}
